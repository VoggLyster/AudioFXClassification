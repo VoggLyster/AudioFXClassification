{
 "cells": [
  {
   "cell_type": "markdown",
   "id": "3878a98c-cbee-4b51-8696-216b7cb54d6e",
   "metadata": {},
   "source": [
    "# Classify audio effects on guitar samples"
   ]
  },
  {
   "cell_type": "markdown",
   "id": "ce055998-ef33-4ccf-8588-262df6ea618b",
   "metadata": {},
   "source": [
    "## 1. Import and config"
   ]
  },
  {
   "cell_type": "code",
   "execution_count": 1,
   "id": "355f98ee-649d-413e-8037-f935aa23b664",
   "metadata": {},
   "outputs": [],
   "source": [
    "import os\n",
    "import numpy as np\n",
    "import pandas as pd\n",
    "import scipy\n",
    "import librosa, librosa.display\n",
    "import matplotlib.pyplot as plt\n",
    "%matplotlib inline\n",
    "import matplotlib.style as ms\n",
    "ms.use('seaborn-muted')\n",
    "import IPython.display as Ipd\n",
    "import sklearn"
   ]
  },
  {
   "cell_type": "markdown",
   "id": "b5642e81-0ec9-4269-a18d-b85c1b9aba83",
   "metadata": {},
   "source": [
    "## 2. Import and prepare data"
   ]
  },
  {
   "cell_type": "code",
   "execution_count": 5,
   "id": "abe49be9-ea01-4fef-b0fa-405e9c2bcbb3",
   "metadata": {},
   "outputs": [
    {
     "name": "stdout",
     "output_type": "stream",
     "text": [
      "9360\n"
     ]
    }
   ],
   "source": [
    "#get audio files\n",
    "fileswchorus = os.listdir('./DataSet/Samples/Chorus')\n",
    "fileswdistortion = os.listdir('./DataSet/Samples/Distortion')\n",
    "filesweq = os.listdir('./DataSet/Samples/EQ')\n",
    "fileswdelay = os.listdir('./DataSet/Samples/FeedbackDelay')\n",
    "fileswflanger = os.listdir('./DataSet/Samples/Flanger')\n",
    "fileswnofx = os.listdir('./DataSet/Samples/NoFX')\n",
    "\n",
    "#calc number of samples\n",
    "n_data = len(fileswchorus)+len(fileswdistortion)+len(filesweq)+len(fileswdelay)+len(fileswflanger)+len(fileswnofx)\n",
    "print(n_data)\n",
    "\n",
    "#setup classes\n",
    "labels = np.zeros(n_data)\n",
    "features = np.zeros((n_data, 3460))\n",
    "classes = ['Chorus','Distortion','EQ','FeedbackDelay','Flanger','NoFX']"
   ]
  },
  {
   "cell_type": "code",
   "execution_count": 6,
   "id": "e55ba774-4fc4-45cc-bc9a-fdef2c0347ed",
   "metadata": {},
   "outputs": [
    {
     "name": "stdout",
     "output_type": "stream",
     "text": [
      "Chorus done\n",
      "Distortion done\n",
      "EQ done\n",
      "FeedbackDelay done\n",
      "Flanger done\n",
      "NoFX done\n"
     ]
    }
   ],
   "source": [
    "samplerate = 44100\n",
    "\n",
    "def extract_features(filename):\n",
    "    signal, dummy = librosa.load(filename, samplerate, mono=True)\n",
    "    output = librosa.feature.mfcc(signal, samplerate).flatten()\n",
    "    return output\n",
    "    \n",
    "idx = 0\n",
    "    \n",
    "for x in fileswchorus:\n",
    "    output = extract_features('./DataSet/Samples/Chorus/' + x)\n",
    "    features[idx,:] = output\n",
    "    labels[idx] = 0\n",
    "    idx = idx+1\n",
    "\n",
    "print(\"Chorus done\")\n",
    "    \n",
    "for x in fileswdistortion:\n",
    "    output = extract_features('./DataSet/Samples/Distortion/' + x)\n",
    "    features[idx,:] = output\n",
    "    labels[idx] = 1\n",
    "    idx = idx+1    \n",
    "    \n",
    "print(\"Distortion done\")\n",
    "    \n",
    "for x in filesweq:\n",
    "    output = extract_features('./DataSet/Samples/EQ/' + x)\n",
    "    features[idx,:] = output\n",
    "    labels[idx] = 2\n",
    "    idx = idx+1    \n",
    "    \n",
    "print(\"EQ done\")\n",
    "    \n",
    "for x in fileswdelay:\n",
    "    output = extract_features('./DataSet/Samples/FeedbackDelay/' + x)\n",
    "    features[idx,:] = output\n",
    "    labels[idx] = 3\n",
    "    idx = idx+1    \n",
    "    \n",
    "print(\"FeedbackDelay done\")\n",
    "\n",
    "for x in fileswflanger:\n",
    "    output = extract_features('./DataSet/Samples/Flanger/' + x)\n",
    "    features[idx,:] = output\n",
    "    labels[idx] = 4\n",
    "    idx = idx+1    \n",
    "    \n",
    "print(\"Flanger done\")\n",
    "\n",
    "for x in fileswnofx:\n",
    "    output = extract_features('./DataSet/Samples/NoFX/' + x)\n",
    "    features[idx,:] = output\n",
    "    labels[idx] = 5\n",
    "    idx = idx+1    \n",
    "    \n",
    "print(\"NoFX done\")"
   ]
  },
  {
   "cell_type": "code",
   "execution_count": 7,
   "id": "22802830-ea9c-4d6d-a635-97ddde2803d0",
   "metadata": {},
   "outputs": [],
   "source": [
    "labels = pd.DataFrame(labels)\n",
    "labels.columns = ['labels']\n",
    "labels = labels['labels']"
   ]
  },
  {
   "cell_type": "code",
   "execution_count": 8,
   "id": "4d632bba-d3c8-4e03-9c04-745eb768d3e4",
   "metadata": {},
   "outputs": [],
   "source": [
    "from sklearn.model_selection import train_test_split\n",
    "\n",
    "#splitting the dataset in training and testing parts\n",
    "feat_train, feat_test, lab_train, lab_test = train_test_split(features, labels, test_size=0.2, random_state=7)"
   ]
  },
  {
   "cell_type": "code",
   "execution_count": 9,
   "id": "02df0734-ebe6-463e-9b93-932f951f3951",
   "metadata": {},
   "outputs": [],
   "source": [
    "#learning the scaling transformation from the train data and applying it to both train and test set.\n",
    "\n",
    "#creating scaling object\n",
    "scaler = sklearn.preprocessing.StandardScaler()\n",
    "\n",
    "#learning scaling from train set\n",
    "scaler.fit(feat_train)\n",
    "\n",
    "#applying scaling to both train and test set\n",
    "feat_train = scaler.transform(feat_train)\n",
    "feat_test = scaler.transform(feat_test)"
   ]
  },
  {
   "cell_type": "markdown",
   "id": "4ec2579e-e743-4ac5-a248-2a60b5d914b6",
   "metadata": {},
   "source": [
    "## SVM Classifier "
   ]
  },
  {
   "cell_type": "code",
   "execution_count": 18,
   "id": "34f29ba8-bf8e-44ba-bb1f-876c77bd10e5",
   "metadata": {},
   "outputs": [
    {
     "name": "stdout",
     "output_type": "stream",
     "text": [
      "[LibSVM]"
     ]
    },
    {
     "ename": "KeyboardInterrupt",
     "evalue": "",
     "output_type": "error",
     "traceback": [
      "\u001b[1;31m---------------------------------------------------------------------------\u001b[0m",
      "\u001b[1;31mKeyboardInterrupt\u001b[0m                         Traceback (most recent call last)",
      "\u001b[1;32m<ipython-input-18-729351ac6b29>\u001b[0m in \u001b[0;36m<module>\u001b[1;34m\u001b[0m\n\u001b[0;32m      3\u001b[0m \u001b[1;33m\u001b[0m\u001b[0m\n\u001b[0;32m      4\u001b[0m \u001b[1;31m#training the model\u001b[0m\u001b[1;33m\u001b[0m\u001b[1;33m\u001b[0m\u001b[1;33m\u001b[0m\u001b[0m\n\u001b[1;32m----> 5\u001b[1;33m \u001b[0mmodel_SVM\u001b[0m\u001b[1;33m.\u001b[0m\u001b[0mfit\u001b[0m\u001b[1;33m(\u001b[0m\u001b[0mfeat_train\u001b[0m\u001b[1;33m,\u001b[0m \u001b[0mlab_train\u001b[0m\u001b[1;33m)\u001b[0m\u001b[1;33m\u001b[0m\u001b[1;33m\u001b[0m\u001b[0m\n\u001b[0m\u001b[0;32m      6\u001b[0m \u001b[1;33m\u001b[0m\u001b[0m\n\u001b[0;32m      7\u001b[0m \u001b[1;31m#applying the the model on the test data (features)\u001b[0m\u001b[1;33m\u001b[0m\u001b[1;33m\u001b[0m\u001b[1;33m\u001b[0m\u001b[0m\n",
      "\u001b[1;32mc:\\users\\svkly\\appdata\\local\\programs\\python\\python36\\lib\\site-packages\\sklearn\\svm\\_base.py\u001b[0m in \u001b[0;36mfit\u001b[1;34m(self, X, y, sample_weight)\u001b[0m\n\u001b[0;32m    215\u001b[0m \u001b[1;33m\u001b[0m\u001b[0m\n\u001b[0;32m    216\u001b[0m         \u001b[0mseed\u001b[0m \u001b[1;33m=\u001b[0m \u001b[0mrnd\u001b[0m\u001b[1;33m.\u001b[0m\u001b[0mrandint\u001b[0m\u001b[1;33m(\u001b[0m\u001b[0mnp\u001b[0m\u001b[1;33m.\u001b[0m\u001b[0miinfo\u001b[0m\u001b[1;33m(\u001b[0m\u001b[1;34m'i'\u001b[0m\u001b[1;33m)\u001b[0m\u001b[1;33m.\u001b[0m\u001b[0mmax\u001b[0m\u001b[1;33m)\u001b[0m\u001b[1;33m\u001b[0m\u001b[1;33m\u001b[0m\u001b[0m\n\u001b[1;32m--> 217\u001b[1;33m         \u001b[0mfit\u001b[0m\u001b[1;33m(\u001b[0m\u001b[0mX\u001b[0m\u001b[1;33m,\u001b[0m \u001b[0my\u001b[0m\u001b[1;33m,\u001b[0m \u001b[0msample_weight\u001b[0m\u001b[1;33m,\u001b[0m \u001b[0msolver_type\u001b[0m\u001b[1;33m,\u001b[0m \u001b[0mkernel\u001b[0m\u001b[1;33m,\u001b[0m \u001b[0mrandom_seed\u001b[0m\u001b[1;33m=\u001b[0m\u001b[0mseed\u001b[0m\u001b[1;33m)\u001b[0m\u001b[1;33m\u001b[0m\u001b[1;33m\u001b[0m\u001b[0m\n\u001b[0m\u001b[0;32m    218\u001b[0m         \u001b[1;31m# see comment on the other call to np.iinfo in this file\u001b[0m\u001b[1;33m\u001b[0m\u001b[1;33m\u001b[0m\u001b[1;33m\u001b[0m\u001b[0m\n\u001b[0;32m    219\u001b[0m \u001b[1;33m\u001b[0m\u001b[0m\n",
      "\u001b[1;32mc:\\users\\svkly\\appdata\\local\\programs\\python\\python36\\lib\\site-packages\\sklearn\\svm\\_base.py\u001b[0m in \u001b[0;36m_dense_fit\u001b[1;34m(self, X, y, sample_weight, solver_type, kernel, random_seed)\u001b[0m\n\u001b[0;32m    274\u001b[0m                 \u001b[0mcache_size\u001b[0m\u001b[1;33m=\u001b[0m\u001b[0mself\u001b[0m\u001b[1;33m.\u001b[0m\u001b[0mcache_size\u001b[0m\u001b[1;33m,\u001b[0m \u001b[0mcoef0\u001b[0m\u001b[1;33m=\u001b[0m\u001b[0mself\u001b[0m\u001b[1;33m.\u001b[0m\u001b[0mcoef0\u001b[0m\u001b[1;33m,\u001b[0m\u001b[1;33m\u001b[0m\u001b[1;33m\u001b[0m\u001b[0m\n\u001b[0;32m    275\u001b[0m                 \u001b[0mgamma\u001b[0m\u001b[1;33m=\u001b[0m\u001b[0mself\u001b[0m\u001b[1;33m.\u001b[0m\u001b[0m_gamma\u001b[0m\u001b[1;33m,\u001b[0m \u001b[0mepsilon\u001b[0m\u001b[1;33m=\u001b[0m\u001b[0mself\u001b[0m\u001b[1;33m.\u001b[0m\u001b[0mepsilon\u001b[0m\u001b[1;33m,\u001b[0m\u001b[1;33m\u001b[0m\u001b[1;33m\u001b[0m\u001b[0m\n\u001b[1;32m--> 276\u001b[1;33m                 max_iter=self.max_iter, random_seed=random_seed)\n\u001b[0m\u001b[0;32m    277\u001b[0m \u001b[1;33m\u001b[0m\u001b[0m\n\u001b[0;32m    278\u001b[0m         \u001b[0mself\u001b[0m\u001b[1;33m.\u001b[0m\u001b[0m_warn_from_fit_status\u001b[0m\u001b[1;33m(\u001b[0m\u001b[1;33m)\u001b[0m\u001b[1;33m\u001b[0m\u001b[1;33m\u001b[0m\u001b[0m\n",
      "\u001b[1;31mKeyboardInterrupt\u001b[0m: "
     ]
    }
   ],
   "source": [
    "#Creating an instance of a SVM classifier\n",
    "#model_SVM = sklearn.svm.SVC(kernel='rbf', C=2.0, verbose=True)\n",
    "\n",
    "#training the model\n",
    "#model_SVM.fit(feat_train, lab_train)\n",
    "\n",
    "#applying the the model on the test data (features)\n",
    "#lab_predict = model_SVM.predict(feat_test)\n",
    "\n",
    "#print the number of misclassified samples, accuracy and complete report (using scikit learn metric tools) \n",
    "#print('Number of mislabeled samples %d out of %d' % ((lab_test != lab_predict).sum(),lab_test.size))\n",
    "#print('Accuracy:',sklearn.metrics.accuracy_score(lab_test, lab_predict))"
   ]
  },
  {
   "cell_type": "code",
   "execution_count": null,
   "id": "59c277f1-ac3b-45ca-8d63-a026d5ffa153",
   "metadata": {},
   "outputs": [],
   "source": [
    "#computing a comprehensive set of performance metrics\n",
    "#print(sklearn.metrics.classification_report(lab_test, lab_predict))\n",
    "\n",
    "#disp = sklearn.metrics.plot_confusion_matrix(model_, feat_test, lab_test, display_labels=classes, cmap=plt.cm.Blues, normalize=None)"
   ]
  },
  {
   "cell_type": "markdown",
   "id": "cf330daf-edab-4ae0-9d4c-b48f78ab9389",
   "metadata": {},
   "source": [
    "## ANN Classifier"
   ]
  },
  {
   "cell_type": "code",
   "execution_count": 10,
   "id": "275fc885-e19e-426f-b074-4249589d56c7",
   "metadata": {},
   "outputs": [
    {
     "name": "stdout",
     "output_type": "stream",
     "text": [
      "Iteration 1, loss = 1.59339466\n",
      "Iteration 2, loss = 1.11618285\n",
      "Iteration 3, loss = 0.90230576\n",
      "Iteration 4, loss = 0.75348786\n",
      "Iteration 5, loss = 0.62037031\n",
      "Iteration 6, loss = 0.54509967\n",
      "Iteration 7, loss = 0.48810654\n",
      "Iteration 8, loss = 0.44791671\n",
      "Iteration 9, loss = 0.41412032\n",
      "Iteration 10, loss = 0.39092271\n",
      "Iteration 11, loss = 0.35784506\n",
      "Iteration 12, loss = 0.34075897\n",
      "Iteration 13, loss = 0.30635092\n",
      "Iteration 14, loss = 0.27746660\n",
      "Iteration 15, loss = 0.25560149\n",
      "Iteration 16, loss = 0.23245219\n",
      "Iteration 17, loss = 0.20888878\n",
      "Iteration 18, loss = 0.19034780\n",
      "Iteration 19, loss = 0.18995286\n",
      "Iteration 20, loss = 0.16861856\n",
      "Iteration 21, loss = 0.15602382\n",
      "Iteration 22, loss = 0.15087626\n",
      "Iteration 23, loss = 0.14620562\n",
      "Iteration 24, loss = 0.13330061\n",
      "Iteration 25, loss = 0.12834850\n",
      "Iteration 26, loss = 0.12098527\n",
      "Iteration 27, loss = 0.11944731\n",
      "Iteration 28, loss = 0.11338593\n",
      "Iteration 29, loss = 0.10848551\n",
      "Iteration 30, loss = 0.10466651\n",
      "Iteration 31, loss = 0.09999741\n",
      "Iteration 32, loss = 0.09579085\n",
      "Iteration 33, loss = 0.08788896\n",
      "Iteration 34, loss = 0.08225027\n",
      "Iteration 35, loss = 0.08167254\n",
      "Iteration 36, loss = 0.08055869\n",
      "Iteration 37, loss = 0.07925242\n",
      "Iteration 38, loss = 0.12192804\n",
      "Iteration 39, loss = 0.08532901\n",
      "Iteration 40, loss = 0.06934089\n",
      "Iteration 41, loss = 0.06928482\n",
      "Iteration 42, loss = 0.06028419\n",
      "Iteration 43, loss = 0.06305027\n",
      "Iteration 44, loss = 0.05766825\n",
      "Iteration 45, loss = 0.05099747\n",
      "Iteration 46, loss = 0.05254946\n",
      "Iteration 47, loss = 0.05269370\n",
      "Iteration 48, loss = 0.04697909\n",
      "Iteration 49, loss = 0.05602542\n",
      "Iteration 50, loss = 0.05421742\n",
      "Iteration 51, loss = 0.07288340\n",
      "Iteration 52, loss = 0.06115720\n",
      "Iteration 53, loss = 0.04465147\n",
      "Iteration 54, loss = 0.03573162\n",
      "Iteration 55, loss = 0.03892015\n",
      "Iteration 56, loss = 0.03871733\n",
      "Iteration 57, loss = 0.03622168\n",
      "Iteration 58, loss = 0.03532767\n",
      "Iteration 59, loss = 0.03549065\n",
      "Iteration 60, loss = 0.02995688\n",
      "Iteration 61, loss = 0.02902878\n",
      "Iteration 62, loss = 0.03043036\n",
      "Iteration 63, loss = 0.03267411\n",
      "Iteration 64, loss = 0.03774632\n",
      "Iteration 65, loss = 0.05681282\n",
      "Iteration 66, loss = 0.06024892\n",
      "Iteration 67, loss = 0.05300144\n",
      "Iteration 68, loss = 0.03425701\n",
      "Iteration 69, loss = 0.04635990\n",
      "Iteration 70, loss = 0.03433202\n",
      "Iteration 71, loss = 0.02456168\n",
      "Iteration 72, loss = 0.02012701\n",
      "Iteration 73, loss = 0.01757956\n",
      "Iteration 74, loss = 0.01738991\n",
      "Iteration 75, loss = 0.03361416\n",
      "Iteration 76, loss = 0.03134122\n",
      "Iteration 77, loss = 0.02631454\n",
      "Iteration 78, loss = 0.01860484\n",
      "Iteration 79, loss = 0.02004045\n",
      "Iteration 80, loss = 0.02892946\n",
      "Iteration 81, loss = 0.02746213\n",
      "Iteration 82, loss = 0.02134417\n",
      "Iteration 83, loss = 0.01619887\n",
      "Iteration 84, loss = 0.02113973\n",
      "Iteration 85, loss = 0.02476873\n",
      "Iteration 86, loss = 0.01990857\n",
      "Iteration 87, loss = 0.01497263\n",
      "Iteration 88, loss = 0.01962767\n",
      "Iteration 89, loss = 0.02460897\n",
      "Iteration 90, loss = 0.01613481\n",
      "Iteration 91, loss = 0.01313948\n",
      "Iteration 92, loss = 0.01294987\n",
      "Iteration 93, loss = 0.01046411\n",
      "Iteration 94, loss = 0.00970219\n",
      "Iteration 95, loss = 0.00839514\n",
      "Iteration 96, loss = 0.00785916\n",
      "Iteration 97, loss = 0.01005820\n",
      "Iteration 98, loss = 0.01568997\n",
      "Iteration 99, loss = 0.01374253\n",
      "Iteration 100, loss = 0.00904757\n",
      "Iteration 101, loss = 0.01292842\n",
      "Iteration 102, loss = 0.01013859\n",
      "Iteration 103, loss = 0.00669279\n",
      "Iteration 104, loss = 0.00646216\n",
      "Iteration 105, loss = 0.00551579\n",
      "Iteration 106, loss = 0.00536954\n",
      "Iteration 107, loss = 0.01906155\n",
      "Iteration 108, loss = 0.05465994\n",
      "Iteration 109, loss = 0.08247871\n",
      "Iteration 110, loss = 0.06512514\n",
      "Iteration 111, loss = 0.06024647\n",
      "Iteration 112, loss = 0.02285898\n",
      "Iteration 113, loss = 0.01534618\n",
      "Iteration 114, loss = 0.01333035\n",
      "Iteration 115, loss = 0.01038699\n",
      "Iteration 116, loss = 0.00640420\n",
      "Iteration 117, loss = 0.00539514\n",
      "Training loss did not improve more than tol=0.000100 for 10 consecutive epochs. Stopping.\n",
      "Accuracy: 0.9348290598290598\n"
     ]
    }
   ],
   "source": [
    "#Import the classifier\n",
    "from sklearn.neural_network import MLPClassifier\n",
    "\n",
    "##Creating an instance of a MLP classifier\n",
    "#and setting it some option (max mum epoch, verbose on, activation of neurons)\n",
    "mlp = MLPClassifier(hidden_layer_sizes=(10,5), max_iter=10000, activation='relu', verbose=True)\n",
    "\n",
    "#train the model\n",
    "mlp.fit(feat_train, lab_train)\n",
    "\n",
    "#applying the the model on the test data (features)\n",
    "lab_predict = mlp.predict(feat_test)\n",
    "print('Accuracy:',sklearn.metrics.accuracy_score(lab_test, lab_predict))"
   ]
  },
  {
   "cell_type": "code",
   "execution_count": 16,
   "id": "0d016ad1-dce7-4a74-b394-eec75488e6c7",
   "metadata": {},
   "outputs": [
    {
     "data": {
      "image/png": "[encoded data removed]",
      "text/plain": [
       "<Figure size 432x288 with 1 Axes>"
      ]
     },
     "metadata": {
      "needs_background": "light"
     },
     "output_type": "display_data"
    },
    {
     "name": "stdout",
     "output_type": "stream",
     "text": [
      "Number of mislabeled samples 122 out of 1872\n",
      "Accuracy: 0.9348290598290598\n",
      "              precision    recall  f1-score   support\n",
      "\n",
      "         0.0       0.88      0.85      0.87       377\n",
      "         1.0       1.00      1.00      1.00       391\n",
      "         2.0       0.90      0.93      0.91       242\n",
      "         3.0       0.99      0.99      0.99       363\n",
      "         4.0       0.88      0.89      0.89       378\n",
      "         5.0       0.96      0.98      0.97       121\n",
      "\n",
      "    accuracy                           0.93      1872\n",
      "   macro avg       0.94      0.94      0.94      1872\n",
      "weighted avg       0.93      0.93      0.93      1872\n",
      "\n"
     ]
    },
    {
     "data": {
      "image/png": "[encoded data removed]",
      "text/plain": [
       "<Figure size 432x288 with 2 Axes>"
      ]
     },
     "metadata": {
      "needs_background": "light"
     },
     "output_type": "display_data"
    }
   ],
   "source": [
    "#plotting the loss curve over training iteration \n",
    "plt.plot(mlp.loss_curve_)\n",
    "plt.xlabel('iteration')\n",
    "plt.ylabel('loss')\n",
    "plt.show()\n",
    "\n",
    "#print the number of misclassified samples, accuracy and complete report (using scikit learn metric tools) \n",
    "print('Number of mislabeled samples %d out of %d' % ((lab_test != lab_predict).sum(),lab_test.size))\n",
    "print('Accuracy:',sklearn.metrics.accuracy_score(lab_test, lab_predict))\n",
    "print(sklearn.metrics.classification_report(lab_test, lab_predict))\n",
    "disp = sklearn.metrics.plot_confusion_matrix(mlp, feat_test, lab_test, display_labels=classes, cmap=plt.cm.Blues, normalize=None)"
   ]
  },
  {
   "cell_type": "code",
   "execution_count": 17,
   "id": "90433ad1-7734-4d38-88ee-0b399b22adbc",
   "metadata": {},
   "outputs": [
    {
     "name": "stdout",
     "output_type": "stream",
     "text": [
      "Chorus\n",
      "Chorus\n",
      "Flanger\n",
      "Chorus\n",
      "FeedbackDelay\n",
      "Chorus\n",
      "Flanger\n",
      "Chorus\n",
      "Flanger\n",
      "Chorus\n",
      "Chorus\n",
      "Chorus\n",
      "EQ\n",
      "Chorus\n",
      "Flanger\n",
      "Flanger\n",
      "EQ\n",
      "Flanger\n",
      "EQ\n",
      "Chorus\n",
      "Chorus\n",
      "Flanger\n",
      "Flanger\n",
      "Chorus\n",
      "Chorus\n",
      "Flanger\n",
      "Flanger\n",
      "NoFX\n",
      "Flanger\n",
      "Chorus\n",
      "Chorus\n",
      "Flanger\n",
      "Flanger\n",
      "Flanger\n",
      "EQ\n",
      "Flanger\n",
      "Flanger\n",
      "Chorus\n",
      "Chorus\n",
      "Chorus\n",
      "Chorus\n",
      "Chorus\n",
      "Chorus\n",
      "Chorus\n",
      "Chorus\n",
      "Chorus\n",
      "Flanger\n",
      "Chorus\n",
      "EQ\n",
      "NoFX\n",
      "Chorus\n",
      "Flanger\n",
      "Flanger\n",
      "Chorus\n",
      "Flanger\n",
      "Chorus\n",
      "Chorus\n",
      "Chorus\n",
      "Flanger\n",
      "Flanger\n",
      "Chorus\n",
      "Chorus\n",
      "EQ\n",
      "EQ\n",
      "EQ\n",
      "FeedbackDelay\n",
      "EQ\n",
      "Flanger\n",
      "EQ\n",
      "Chorus\n",
      "EQ\n",
      "EQ\n",
      "Flanger\n",
      "Flanger\n",
      "Chorus\n",
      "Flanger\n",
      "Chorus\n",
      "Flanger\n",
      "Chorus\n",
      "Flanger\n",
      "Chorus\n",
      "Flanger\n",
      "EQ\n",
      "Flanger\n",
      "Flanger\n",
      "Chorus\n",
      "FeedbackDelay\n",
      "Flanger\n",
      "Chorus\n",
      "Flanger\n",
      "EQ\n",
      "Flanger\n",
      "Chorus\n",
      "Flanger\n",
      "Chorus\n",
      "EQ\n",
      "Flanger\n",
      "Chorus\n",
      "Chorus\n",
      "Chorus\n",
      "EQ\n",
      "Chorus\n",
      "Chorus\n",
      "Chorus\n",
      "FeedbackDelay\n",
      "Flanger\n",
      "Chorus\n",
      "Chorus\n",
      "Chorus\n",
      "EQ\n",
      "Flanger\n",
      "Flanger\n",
      "Flanger\n",
      "Flanger\n",
      "Chorus\n",
      "Chorus\n",
      "FeedbackDelay\n",
      "Chorus\n",
      "Chorus\n",
      "Chorus\n",
      "Flanger\n",
      "Flanger\n"
     ]
    }
   ],
   "source": [
    "#displaying names of misclassified files\n",
    "results = lab_test == lab_predict\n",
    "\n",
    "for index, value in results.items():\n",
    "    if value == False:\n",
    "        print(classes[int(lab_test[index])])"
   ]
  }
 ],
 "metadata": {
  "kernelspec": {
   "display_name": "Python 3",
   "language": "python",
   "name": "python3"
  },
  "language_info": {
   "codemirror_mode": {
    "name": "ipython",
    "version": 3
   },
   "file_extension": ".py",
   "mimetype": "text/x-python",
   "name": "python",
   "nbconvert_exporter": "python",
   "pygments_lexer": "ipython3",
   "version": "3.6.7"
  }
 },
 "nbformat": 4,
 "nbformat_minor": 5
}
