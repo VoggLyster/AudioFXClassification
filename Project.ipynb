{
 "cells": [
  {
   "cell_type": "markdown",
   "id": "3878a98c-cbee-4b51-8696-216b7cb54d6e",
   "metadata": {},
   "source": [
    "# Classify audio effects on guitar samples"
   ]
  },
  {
   "cell_type": "markdown",
   "id": "ce055998-ef33-4ccf-8588-262df6ea618b",
   "metadata": {},
   "source": [
    "## 0. Import, config and setup"
   ]
  },
  {
   "cell_type": "code",
   "execution_count": 1,
   "id": "355f98ee-649d-413e-8037-f935aa23b664",
   "metadata": {},
   "outputs": [],
   "source": [
    "import os\n",
    "import time\n",
    "import numpy as np\n",
    "import pandas as pd\n",
    "import scipy\n",
    "import librosa, librosa.display\n",
    "import matplotlib.pyplot as plt\n",
    "%matplotlib inline\n",
    "import matplotlib.style as ms\n",
    "ms.use('seaborn-muted')\n",
    "import IPython.display as Ipd\n",
    "import sklearn\n",
    "from joblib import dump, load"
   ]
  },
  {
   "cell_type": "code",
   "execution_count": 2,
   "id": "2076f594-cfe1-4fc2-8c34-3713b0cffa1b",
   "metadata": {},
   "outputs": [
    {
     "name": "stdout",
     "output_type": "stream",
     "text": [
      "Feature set 1 size: 2423\n",
      "Feature set 2 size: 520\n"
     ]
    }
   ],
   "source": [
    "# Setting up variables used for extracting features\n",
    "# and calculating the length of the two feature sets\n",
    "samplerate = 44100\n",
    "sample_len = 2*samplerate\n",
    "n_mfcc = 13\n",
    "hop_len = 512\n",
    "segment_len = int(np.ceil(sample_len/hop_len))\n",
    "mfcc_len = segment_len\n",
    "spectral_bandwidth_len = segment_len\n",
    "spectral_flatness_len = 1\n",
    "feature_1_len = mfcc_len*n_mfcc + spectral_bandwidth_len + spectral_flatness_len\n",
    "feature_2_len = mfcc_len*2 + spectral_bandwidth_len + spectral_flatness_len\n",
    "print(\"Feature set 1 size: %i\" % feature_1_len)\n",
    "print(\"Feature set 2 size: %i\" % feature_2_len)"
   ]
  },
  {
   "cell_type": "markdown",
   "id": "5c97b4f9",
   "metadata": {},
   "source": [
    "## 0.a Select feature set\n",
    "Select the feature set used for training here. Both feature sets are described as feature set 1 and feature set 2 in the report,"
   ]
  },
  {
   "cell_type": "code",
   "execution_count": 3,
   "id": "1bd3a166",
   "metadata": {},
   "outputs": [],
   "source": [
    "# Select feature set 1 or 2\n",
    "feature_set_nr = 1\n",
    "if not 0 < feature_set_nr < 3:\n",
    "    raise ValueError(\"Select feature 1 or 2\")\n",
    "if feature_set_nr == 1:\n",
    "    feature_len = feature_1_len\n",
    "elif feature_set_nr == 2:\n",
    "    feature_len = feature_2_len\n",
    "    \n",
    "# Create array of strings for the class names\n",
    "classes = ['Chorus','Distortion','EQ','FeedbackDelay','Flanger','NoFX']"
   ]
  },
  {
   "cell_type": "markdown",
   "id": "b5642e81-0ec9-4269-a18d-b85c1b9aba83",
   "metadata": {},
   "source": [
    "## 1. Import and prepare data\n",
    "This section does not need to be run if we are loading the precalculated features from .csv in 2.b"
   ]
  },
  {
   "cell_type": "code",
   "execution_count": 18,
   "id": "abe49be9-ea01-4fef-b0fa-405e9c2bcbb3",
   "metadata": {},
   "outputs": [
    {
     "name": "stdout",
     "output_type": "stream",
     "text": [
      "Number of samples: 9360\n"
     ]
    }
   ],
   "source": [
    "# Get paths to all the audio files from the labeled directories\n",
    "fileswchorus = os.listdir('./DataSet/Samples/Chorus')\n",
    "fileswdistortion = os.listdir('./DataSet/Samples/Distortion')\n",
    "filesweq = os.listdir('./DataSet/Samples/EQ')\n",
    "fileswdelay = os.listdir('./DataSet/Samples/FeedbackDelay')\n",
    "fileswflanger = os.listdir('./DataSet/Samples/Flanger')\n",
    "fileswnofx = os.listdir('./DataSet/Samples/NoFX')\n",
    "\n",
    "# Calculate the number of samples in the dataset\n",
    "n_data = len(fileswchorus)+len(fileswdistortion)+len(filesweq)+len(fileswdelay)+len(fileswflanger)+len(fileswnofx)\n",
    "print(\"Number of samples: %i\" % n_data)\n",
    "\n",
    "# Create label vector for the classes\n",
    "labels = np.zeros(n_data)\n",
    "features = np.zeros((n_data, feature_len))"
   ]
  },
  {
   "cell_type": "markdown",
   "id": "be432f12-3599-4327-8e0e-89327865732a",
   "metadata": {},
   "source": [
    "## 2. Extract features\n",
    "This block extracts the features as selected earlier. We are extracting features for over 5 hours of audio data, so it can take up to 10 minutes. Consider loading the features from the .csv file in section 2.b"
   ]
  },
  {
   "cell_type": "code",
   "execution_count": null,
   "id": "e55ba774-4fc4-45cc-bc9a-fdef2c0347ed",
   "metadata": {},
   "outputs": [],
   "source": [
    "from IPython.display import clear_output\n",
    "start_time = time.time()\n",
    "count = 0\n",
    "\n",
    "def extract_features(filename, count=0):\n",
    "    # Extract features from input audio file and output them as a vector\n",
    "    signal, dummy = librosa.load(filename, samplerate, mono=True)\n",
    "    # Extract MFCC\n",
    "    mfccs = librosa.feature.mfcc(signal, samplerate, n_mfcc=n_mfcc, hop_length=hop_len)\n",
    "    # Extract spectral bandwidth\n",
    "    spectral_bandwidth = librosa.feature.spectral_bandwidth(signal, samplerate).flatten()\n",
    "    # Extract spectral flatness\n",
    "    spectral_flatness = np.mean(librosa.feature.spectral_flatness(signal).flatten())\n",
    "    if feature_set_nr == 1:\n",
    "        output = np.append(np.concatenate((mfccs.flatten(), spectral_bandwidth)),spectral_flatness)\n",
    "    elif feature_set_nr == 2:\n",
    "        mfccs_mean = np.mean(mfccs,0).flatten()\n",
    "        mfccs_std = np.std(mfccs,0).flatten()\n",
    "        output = np.append(np.concatenate((mfccs_mean, mfccs_std, spectral_bandwidth)),spectral_flatness)\n",
    "    clear_output(wait=True)\n",
    "    print(\"%i/%i samples processed\" % (count, n_data))\n",
    "    return output\n",
    "    \n",
    "idx = 0\n",
    "    \n",
    "for x in fileswchorus:\n",
    "    count = count+1\n",
    "    output = extract_features('./DataSet/Samples/Chorus/' + x, count)\n",
    "    features[idx,:] = output\n",
    "    labels[idx] = 0\n",
    "    idx = idx+1\n",
    "    \n",
    "for x in fileswdistortion:\n",
    "    count = count+1\n",
    "    output = extract_features('./DataSet/Samples/Distortion/' + x, count)\n",
    "    features[idx,:] = output\n",
    "    labels[idx] = 1\n",
    "    idx = idx+1    \n",
    "        \n",
    "for x in filesweq:\n",
    "    count = count+1\n",
    "    output = extract_features('./DataSet/Samples/EQ/' + x, count)\n",
    "    features[idx,:] = output\n",
    "    labels[idx] = 2\n",
    "    idx = idx+1    \n",
    "    \n",
    "for x in fileswdelay:\n",
    "    count = count+1\n",
    "    output = extract_features('./DataSet/Samples/FeedbackDelay/' + x, count)\n",
    "    features[idx,:] = output\n",
    "    labels[idx] = 3\n",
    "    idx = idx+1    \n",
    "\n",
    "for x in fileswflanger:\n",
    "    count = count+1\n",
    "    output = extract_features('./DataSet/Samples/Flanger/' + x, count)\n",
    "    features[idx,:] = output\n",
    "    labels[idx] = 4\n",
    "    idx = idx+1    \n",
    "\n",
    "for x in fileswnofx:\n",
    "    count = count+1\n",
    "    output = extract_features('./DataSet/Samples/NoFX/' + x, count)\n",
    "    features[idx,:] = output\n",
    "    labels[idx] = 5\n",
    "    idx = idx+1    \n",
    "\n",
    "labels = pd.DataFrame(labels)\n",
    "labels.columns = ['labels']\n",
    "labels = labels['labels']\n",
    "    \n",
    "print(\"Feature extraction done\")\n",
    "print(\"Took %d seconds\" % (time.time() - start_time))"
   ]
  },
  {
   "cell_type": "markdown",
   "id": "3c13ca1f-93ed-4756-8b8f-ace2be23da5f",
   "metadata": {},
   "source": [
    "### 2.a Save features to .csv"
   ]
  },
  {
   "cell_type": "code",
   "execution_count": null,
   "id": "39cfd188-635c-4b0b-8e23-e1bf281dfffd",
   "metadata": {},
   "outputs": [],
   "source": [
    "dataset = pd.DataFrame(features)\n",
    "column_names = []\n",
    "for c in range(feature_len):\n",
    "    column_names.append(\"Feat %i\" % c)\n",
    "dataset.columns =  column_names\n",
    "dataset['label digit'] = labels\n",
    "label_text = []\n",
    "for l in labels:\n",
    "    label_text.append(classes[int(l)])\n",
    "dataset['label text'] = label_text\n",
    "dataset.to_csv('feature_set_%i.csv' % feature_set_nr)\n",
    "dataset"
   ]
  },
  {
   "cell_type": "markdown",
   "id": "144f3170",
   "metadata": {},
   "source": [
    "### 2.b Load features from .csv"
   ]
  },
  {
   "cell_type": "code",
   "execution_count": 17,
   "id": "17f1d739",
   "metadata": {},
   "outputs": [
    {
     "data": {
      "text/html": [
       "<div>\n",
       "<style scoped>\n",
       "    .dataframe tbody tr th:only-of-type {\n",
       "        vertical-align: middle;\n",
       "    }\n",
       "\n",
       "    .dataframe tbody tr th {\n",
       "        vertical-align: top;\n",
       "    }\n",
       "\n",
       "    .dataframe thead th {\n",
       "        text-align: right;\n",
       "    }\n",
       "</style>\n",
       "<table border=\"1\" class=\"dataframe\">\n",
       "  <thead>\n",
       "    <tr style=\"text-align: right;\">\n",
       "      <th></th>\n",
       "      <th>Unnamed: 0</th>\n",
       "      <th>Feat 0</th>\n",
       "      <th>Feat 1</th>\n",
       "      <th>Feat 2</th>\n",
       "      <th>Feat 3</th>\n",
       "      <th>Feat 4</th>\n",
       "      <th>Feat 5</th>\n",
       "      <th>Feat 6</th>\n",
       "      <th>Feat 7</th>\n",
       "      <th>Feat 8</th>\n",
       "      <th>...</th>\n",
       "      <th>Feat 2415</th>\n",
       "      <th>Feat 2416</th>\n",
       "      <th>Feat 2417</th>\n",
       "      <th>Feat 2418</th>\n",
       "      <th>Feat 2419</th>\n",
       "      <th>Feat 2420</th>\n",
       "      <th>Feat 2421</th>\n",
       "      <th>Feat 2422</th>\n",
       "      <th>label digit</th>\n",
       "      <th>label text</th>\n",
       "    </tr>\n",
       "  </thead>\n",
       "  <tbody>\n",
       "    <tr>\n",
       "      <th>0</th>\n",
       "      <td>0</td>\n",
       "      <td>-805.815063</td>\n",
       "      <td>-805.815063</td>\n",
       "      <td>-805.815063</td>\n",
       "      <td>-805.815063</td>\n",
       "      <td>-805.815063</td>\n",
       "      <td>-805.815063</td>\n",
       "      <td>-804.980103</td>\n",
       "      <td>-801.050720</td>\n",
       "      <td>-801.329163</td>\n",
       "      <td>...</td>\n",
       "      <td>2246.046469</td>\n",
       "      <td>2418.996250</td>\n",
       "      <td>2634.657126</td>\n",
       "      <td>2932.928664</td>\n",
       "      <td>3498.321297</td>\n",
       "      <td>4201.152815</td>\n",
       "      <td>4640.851434</td>\n",
       "      <td>0.033446</td>\n",
       "      <td>0.0</td>\n",
       "      <td>Chorus</td>\n",
       "    </tr>\n",
       "    <tr>\n",
       "      <th>1</th>\n",
       "      <td>1</td>\n",
       "      <td>-772.046570</td>\n",
       "      <td>-772.046570</td>\n",
       "      <td>-772.046570</td>\n",
       "      <td>-772.046570</td>\n",
       "      <td>-772.046570</td>\n",
       "      <td>-772.046570</td>\n",
       "      <td>-772.046570</td>\n",
       "      <td>-770.233826</td>\n",
       "      <td>-769.957703</td>\n",
       "      <td>...</td>\n",
       "      <td>2131.864846</td>\n",
       "      <td>2369.619799</td>\n",
       "      <td>2605.466591</td>\n",
       "      <td>2939.137964</td>\n",
       "      <td>3435.068893</td>\n",
       "      <td>4179.774120</td>\n",
       "      <td>4721.955989</td>\n",
       "      <td>0.033872</td>\n",
       "      <td>0.0</td>\n",
       "      <td>Chorus</td>\n",
       "    </tr>\n",
       "    <tr>\n",
       "      <th>2</th>\n",
       "      <td>2</td>\n",
       "      <td>-764.198669</td>\n",
       "      <td>-764.198669</td>\n",
       "      <td>-764.198669</td>\n",
       "      <td>-764.198669</td>\n",
       "      <td>-764.198669</td>\n",
       "      <td>-764.198669</td>\n",
       "      <td>-764.198669</td>\n",
       "      <td>-762.892944</td>\n",
       "      <td>-763.503723</td>\n",
       "      <td>...</td>\n",
       "      <td>2189.081994</td>\n",
       "      <td>2340.093213</td>\n",
       "      <td>2506.136772</td>\n",
       "      <td>2774.008847</td>\n",
       "      <td>3239.473929</td>\n",
       "      <td>3982.139098</td>\n",
       "      <td>4670.631257</td>\n",
       "      <td>0.034967</td>\n",
       "      <td>0.0</td>\n",
       "      <td>Chorus</td>\n",
       "    </tr>\n",
       "    <tr>\n",
       "      <th>3</th>\n",
       "      <td>3</td>\n",
       "      <td>-782.452148</td>\n",
       "      <td>-782.452148</td>\n",
       "      <td>-782.452148</td>\n",
       "      <td>-782.452148</td>\n",
       "      <td>-782.452148</td>\n",
       "      <td>-782.452148</td>\n",
       "      <td>-782.452148</td>\n",
       "      <td>-782.452148</td>\n",
       "      <td>-782.452148</td>\n",
       "      <td>...</td>\n",
       "      <td>2636.239590</td>\n",
       "      <td>2857.767980</td>\n",
       "      <td>3087.833133</td>\n",
       "      <td>3444.860760</td>\n",
       "      <td>4021.266627</td>\n",
       "      <td>4497.147804</td>\n",
       "      <td>4627.044415</td>\n",
       "      <td>0.044314</td>\n",
       "      <td>0.0</td>\n",
       "      <td>Chorus</td>\n",
       "    </tr>\n",
       "    <tr>\n",
       "      <th>4</th>\n",
       "      <td>4</td>\n",
       "      <td>-767.481506</td>\n",
       "      <td>-767.481506</td>\n",
       "      <td>-767.481506</td>\n",
       "      <td>-767.481506</td>\n",
       "      <td>-767.481506</td>\n",
       "      <td>-767.481506</td>\n",
       "      <td>-767.481506</td>\n",
       "      <td>-767.481506</td>\n",
       "      <td>-767.481506</td>\n",
       "      <td>...</td>\n",
       "      <td>2662.748375</td>\n",
       "      <td>2928.491952</td>\n",
       "      <td>3121.173055</td>\n",
       "      <td>3497.104808</td>\n",
       "      <td>4091.195166</td>\n",
       "      <td>4540.594038</td>\n",
       "      <td>4711.831888</td>\n",
       "      <td>0.046354</td>\n",
       "      <td>0.0</td>\n",
       "      <td>Chorus</td>\n",
       "    </tr>\n",
       "    <tr>\n",
       "      <th>...</th>\n",
       "      <td>...</td>\n",
       "      <td>...</td>\n",
       "      <td>...</td>\n",
       "      <td>...</td>\n",
       "      <td>...</td>\n",
       "      <td>...</td>\n",
       "      <td>...</td>\n",
       "      <td>...</td>\n",
       "      <td>...</td>\n",
       "      <td>...</td>\n",
       "      <td>...</td>\n",
       "      <td>...</td>\n",
       "      <td>...</td>\n",
       "      <td>...</td>\n",
       "      <td>...</td>\n",
       "      <td>...</td>\n",
       "      <td>...</td>\n",
       "      <td>...</td>\n",
       "      <td>...</td>\n",
       "      <td>...</td>\n",
       "      <td>...</td>\n",
       "    </tr>\n",
       "    <tr>\n",
       "      <th>9355</th>\n",
       "      <td>9355</td>\n",
       "      <td>-841.291992</td>\n",
       "      <td>-841.291992</td>\n",
       "      <td>-841.291992</td>\n",
       "      <td>-841.291992</td>\n",
       "      <td>-841.291992</td>\n",
       "      <td>-841.291992</td>\n",
       "      <td>-841.291992</td>\n",
       "      <td>-841.291992</td>\n",
       "      <td>-841.291992</td>\n",
       "      <td>...</td>\n",
       "      <td>4780.038563</td>\n",
       "      <td>5137.903350</td>\n",
       "      <td>5481.891117</td>\n",
       "      <td>5936.500631</td>\n",
       "      <td>6349.154289</td>\n",
       "      <td>6598.279974</td>\n",
       "      <td>6318.066195</td>\n",
       "      <td>0.180398</td>\n",
       "      <td>5.0</td>\n",
       "      <td>NoFX</td>\n",
       "    </tr>\n",
       "    <tr>\n",
       "      <th>9356</th>\n",
       "      <td>9356</td>\n",
       "      <td>-848.435181</td>\n",
       "      <td>-848.435181</td>\n",
       "      <td>-848.435181</td>\n",
       "      <td>-848.435181</td>\n",
       "      <td>-848.435181</td>\n",
       "      <td>-848.435181</td>\n",
       "      <td>-848.435181</td>\n",
       "      <td>-848.435181</td>\n",
       "      <td>-848.435181</td>\n",
       "      <td>...</td>\n",
       "      <td>5417.428686</td>\n",
       "      <td>5667.315640</td>\n",
       "      <td>5845.391073</td>\n",
       "      <td>6348.099061</td>\n",
       "      <td>6816.736924</td>\n",
       "      <td>6670.926386</td>\n",
       "      <td>6233.212061</td>\n",
       "      <td>0.188355</td>\n",
       "      <td>5.0</td>\n",
       "      <td>NoFX</td>\n",
       "    </tr>\n",
       "    <tr>\n",
       "      <th>9357</th>\n",
       "      <td>9357</td>\n",
       "      <td>-849.316956</td>\n",
       "      <td>-849.316956</td>\n",
       "      <td>-849.316956</td>\n",
       "      <td>-849.316956</td>\n",
       "      <td>-849.316956</td>\n",
       "      <td>-849.316956</td>\n",
       "      <td>-849.316956</td>\n",
       "      <td>-849.316956</td>\n",
       "      <td>-849.316956</td>\n",
       "      <td>...</td>\n",
       "      <td>5647.541131</td>\n",
       "      <td>5992.078540</td>\n",
       "      <td>6307.800786</td>\n",
       "      <td>6578.655490</td>\n",
       "      <td>6691.608145</td>\n",
       "      <td>6512.613365</td>\n",
       "      <td>6257.745159</td>\n",
       "      <td>0.188150</td>\n",
       "      <td>5.0</td>\n",
       "      <td>NoFX</td>\n",
       "    </tr>\n",
       "    <tr>\n",
       "      <th>9358</th>\n",
       "      <td>9358</td>\n",
       "      <td>-834.982605</td>\n",
       "      <td>-834.982605</td>\n",
       "      <td>-834.982605</td>\n",
       "      <td>-834.982605</td>\n",
       "      <td>-834.982605</td>\n",
       "      <td>-834.982605</td>\n",
       "      <td>-834.982605</td>\n",
       "      <td>-834.982605</td>\n",
       "      <td>-834.982605</td>\n",
       "      <td>...</td>\n",
       "      <td>5753.728200</td>\n",
       "      <td>6031.078789</td>\n",
       "      <td>6561.493139</td>\n",
       "      <td>7042.708430</td>\n",
       "      <td>6990.960488</td>\n",
       "      <td>6565.114083</td>\n",
       "      <td>6228.771383</td>\n",
       "      <td>0.209479</td>\n",
       "      <td>5.0</td>\n",
       "      <td>NoFX</td>\n",
       "    </tr>\n",
       "    <tr>\n",
       "      <th>9359</th>\n",
       "      <td>9359</td>\n",
       "      <td>-837.352600</td>\n",
       "      <td>-837.352600</td>\n",
       "      <td>-837.352600</td>\n",
       "      <td>-837.352600</td>\n",
       "      <td>-837.352600</td>\n",
       "      <td>-837.352600</td>\n",
       "      <td>-837.352600</td>\n",
       "      <td>-837.352600</td>\n",
       "      <td>-837.352600</td>\n",
       "      <td>...</td>\n",
       "      <td>5715.770766</td>\n",
       "      <td>5885.580471</td>\n",
       "      <td>6205.322276</td>\n",
       "      <td>6697.722745</td>\n",
       "      <td>6881.517222</td>\n",
       "      <td>6539.794327</td>\n",
       "      <td>6166.574306</td>\n",
       "      <td>0.204616</td>\n",
       "      <td>5.0</td>\n",
       "      <td>NoFX</td>\n",
       "    </tr>\n",
       "  </tbody>\n",
       "</table>\n",
       "<p>9360 rows × 2426 columns</p>\n",
       "</div>"
      ],
      "text/plain": [
       "      Unnamed: 0      Feat 0      Feat 1      Feat 2      Feat 3      Feat 4  \\\n",
       "0              0 -805.815063 -805.815063 -805.815063 -805.815063 -805.815063   \n",
       "1              1 -772.046570 -772.046570 -772.046570 -772.046570 -772.046570   \n",
       "2              2 -764.198669 -764.198669 -764.198669 -764.198669 -764.198669   \n",
       "3              3 -782.452148 -782.452148 -782.452148 -782.452148 -782.452148   \n",
       "4              4 -767.481506 -767.481506 -767.481506 -767.481506 -767.481506   \n",
       "...          ...         ...         ...         ...         ...         ...   \n",
       "9355        9355 -841.291992 -841.291992 -841.291992 -841.291992 -841.291992   \n",
       "9356        9356 -848.435181 -848.435181 -848.435181 -848.435181 -848.435181   \n",
       "9357        9357 -849.316956 -849.316956 -849.316956 -849.316956 -849.316956   \n",
       "9358        9358 -834.982605 -834.982605 -834.982605 -834.982605 -834.982605   \n",
       "9359        9359 -837.352600 -837.352600 -837.352600 -837.352600 -837.352600   \n",
       "\n",
       "          Feat 5      Feat 6      Feat 7      Feat 8  ...    Feat 2415  \\\n",
       "0    -805.815063 -804.980103 -801.050720 -801.329163  ...  2246.046469   \n",
       "1    -772.046570 -772.046570 -770.233826 -769.957703  ...  2131.864846   \n",
       "2    -764.198669 -764.198669 -762.892944 -763.503723  ...  2189.081994   \n",
       "3    -782.452148 -782.452148 -782.452148 -782.452148  ...  2636.239590   \n",
       "4    -767.481506 -767.481506 -767.481506 -767.481506  ...  2662.748375   \n",
       "...          ...         ...         ...         ...  ...          ...   \n",
       "9355 -841.291992 -841.291992 -841.291992 -841.291992  ...  4780.038563   \n",
       "9356 -848.435181 -848.435181 -848.435181 -848.435181  ...  5417.428686   \n",
       "9357 -849.316956 -849.316956 -849.316956 -849.316956  ...  5647.541131   \n",
       "9358 -834.982605 -834.982605 -834.982605 -834.982605  ...  5753.728200   \n",
       "9359 -837.352600 -837.352600 -837.352600 -837.352600  ...  5715.770766   \n",
       "\n",
       "        Feat 2416    Feat 2417    Feat 2418    Feat 2419    Feat 2420  \\\n",
       "0     2418.996250  2634.657126  2932.928664  3498.321297  4201.152815   \n",
       "1     2369.619799  2605.466591  2939.137964  3435.068893  4179.774120   \n",
       "2     2340.093213  2506.136772  2774.008847  3239.473929  3982.139098   \n",
       "3     2857.767980  3087.833133  3444.860760  4021.266627  4497.147804   \n",
       "4     2928.491952  3121.173055  3497.104808  4091.195166  4540.594038   \n",
       "...           ...          ...          ...          ...          ...   \n",
       "9355  5137.903350  5481.891117  5936.500631  6349.154289  6598.279974   \n",
       "9356  5667.315640  5845.391073  6348.099061  6816.736924  6670.926386   \n",
       "9357  5992.078540  6307.800786  6578.655490  6691.608145  6512.613365   \n",
       "9358  6031.078789  6561.493139  7042.708430  6990.960488  6565.114083   \n",
       "9359  5885.580471  6205.322276  6697.722745  6881.517222  6539.794327   \n",
       "\n",
       "        Feat 2421  Feat 2422  label digit  label text  \n",
       "0     4640.851434   0.033446          0.0      Chorus  \n",
       "1     4721.955989   0.033872          0.0      Chorus  \n",
       "2     4670.631257   0.034967          0.0      Chorus  \n",
       "3     4627.044415   0.044314          0.0      Chorus  \n",
       "4     4711.831888   0.046354          0.0      Chorus  \n",
       "...           ...        ...          ...         ...  \n",
       "9355  6318.066195   0.180398          5.0        NoFX  \n",
       "9356  6233.212061   0.188355          5.0        NoFX  \n",
       "9357  6257.745159   0.188150          5.0        NoFX  \n",
       "9358  6228.771383   0.209479          5.0        NoFX  \n",
       "9359  6166.574306   0.204616          5.0        NoFX  \n",
       "\n",
       "[9360 rows x 2426 columns]"
      ]
     },
     "execution_count": 17,
     "metadata": {},
     "output_type": "execute_result"
    }
   ],
   "source": [
    "dataset = pd.read_csv('feature_set_%i.csv' % feature_set_nr)\n",
    "features = dataset.values[:,1:feature_len]\n",
    "labels = dataset['label digit']\n",
    "dataset"
   ]
  },
  {
   "cell_type": "markdown",
   "id": "8403d10d-5b84-4837-a841-c1eef093eb72",
   "metadata": {},
   "source": [
    "## 3. Dimensionality reduction"
   ]
  },
  {
   "cell_type": "code",
   "execution_count": 5,
   "id": "3eaf5ece-3869-4e7d-a289-a686b7e185c0",
   "metadata": {},
   "outputs": [
    {
     "data": {
      "image/png": "[encoded data removed]",
      "text/plain": [
       "<Figure size 432x432 with 1 Axes>"
      ]
     },
     "metadata": {},
     "output_type": "display_data"
    }
   ],
   "source": [
    "# Construct a LDA object\n",
    "from sklearn.discriminant_analysis import LinearDiscriminantAnalysis\n",
    "lda = LinearDiscriminantAnalysis()\n",
    "\n",
    "# Train the LDA with labeled features\n",
    "lda.fit(features, labels)\n",
    "\n",
    "# Create projected feature set by transforming the features via LDA\n",
    "projected_features = lda.transform(features)\n",
    "\n",
    "#Plot the first two LDA components\n",
    "with plt.style.context('seaborn-whitegrid'):\n",
    "    plt.figure(figsize=(6, 6))\n",
    "    for lab_val, lab_name in zip(range(0,len(classes)),classes):\n",
    "        plt.scatter(projected_features[labels==lab_val, 1],\n",
    "                    projected_features[labels==lab_val, 2],\n",
    "                    label=lab_name)\n",
    "    plt.xlabel('1st LDA Component')\n",
    "    plt.ylabel('2nd LDA Component')\n",
    "    plt.legend(loc='lower center')\n",
    "    plt.tight_layout()\n",
    "    plt.show()"
   ]
  },
  {
   "cell_type": "markdown",
   "id": "4ec2579e-e743-4ac5-a248-2a60b5d914b6",
   "metadata": {},
   "source": [
    "## 4. SVM Classifier \n",
    "This block runs the Support Vector Machine classifier with Linear Discriminant Analysis with the split and scaled data and outputs some metrics. You can also save and load a pretrained model file running block 5.a.a and 5.a.b"
   ]
  },
  {
   "cell_type": "code",
   "execution_count": 6,
   "id": "2dcdbed6",
   "metadata": {},
   "outputs": [],
   "source": [
    "from sklearn.model_selection import train_test_split\n",
    "\n",
    "# split the dataset into training and testing data\n",
    "proj_feat_train, proj_feat_test, lab_train, lab_test = train_test_split(projected_features, labels, test_size=0.2, random_state=7)"
   ]
  },
  {
   "cell_type": "code",
   "execution_count": 7,
   "id": "ceac442b",
   "metadata": {},
   "outputs": [],
   "source": [
    "# Construct a scaler object\n",
    "scaler = sklearn.preprocessing.StandardScaler()\n",
    "\n",
    "# Train scaler using training data\n",
    "scaler.fit(proj_feat_train)\n",
    "\n",
    "# Scale training data and test data using the scaler\n",
    "feat_train = scaler.transform(proj_feat_train)\n",
    "feat_test = scaler.transform(proj_feat_test)"
   ]
  },
  {
   "cell_type": "code",
   "execution_count": 8,
   "id": "34f29ba8-bf8e-44ba-bb1f-876c77bd10e5",
   "metadata": {},
   "outputs": [
    {
     "name": "stdout",
     "output_type": "stream",
     "text": [
      "[LibSVM]Number of mislabeled samples 48 out of 1872\n",
      "Accuracy: 0.9743589743589743\n"
     ]
    }
   ],
   "source": [
    "#Creating an instance of a SVM classifier\n",
    "model_SVM = sklearn.svm.SVC(kernel='rbf', C=2.0, verbose=True)\n",
    "\n",
    "#training the model\n",
    "model_SVM.fit(proj_feat_train, lab_train)\n",
    "\n",
    "#applying the the model on the test data (features)\n",
    "lab_predict = model_SVM.predict(proj_feat_test)\n",
    "\n",
    "#print the number of misclassified samples, accuracy and complete report (using scikit learn metric tools) \n",
    "print('Number of mislabeled samples %d out of %d' % ((lab_test != lab_predict).sum(),lab_test.size))\n",
    "print('Accuracy:',sklearn.metrics.accuracy_score(lab_test, lab_predict))"
   ]
  },
  {
   "cell_type": "code",
   "execution_count": 9,
   "id": "59c277f1-ac3b-45ca-8d63-a026d5ffa153",
   "metadata": {},
   "outputs": [
    {
     "name": "stdout",
     "output_type": "stream",
     "text": [
      "              precision    recall  f1-score   support\n",
      "\n",
      "         0.0       0.93      0.95      0.94       377\n",
      "         1.0       1.00      1.00      1.00       391\n",
      "         2.0       0.97      0.99      0.98       242\n",
      "         3.0       1.00      1.00      1.00       363\n",
      "         4.0       0.96      0.93      0.94       378\n",
      "         5.0       1.00      1.00      1.00       121\n",
      "\n",
      "    accuracy                           0.97      1872\n",
      "   macro avg       0.98      0.98      0.98      1872\n",
      "weighted avg       0.97      0.97      0.97      1872\n",
      "\n"
     ]
    },
    {
     "data": {
      "image/png": "[encoded data removed]",
      "text/plain": [
       "<Figure size 432x288 with 2 Axes>"
      ]
     },
     "metadata": {
      "needs_background": "light"
     },
     "output_type": "display_data"
    }
   ],
   "source": [
    "#computing a comprehensive set of performance metrics\n",
    "print(sklearn.metrics.classification_report(lab_test, lab_predict))\n",
    "\n",
    "disp = sklearn.metrics.plot_confusion_matrix(model_SVM, proj_feat_test, lab_test, display_labels=classes, cmap=plt.cm.Blues, normalize=\"true\", values_format=\".3f\")"
   ]
  },
  {
   "cell_type": "markdown",
   "id": "cf330daf-edab-4ae0-9d4c-b48f78ab9389",
   "metadata": {},
   "source": [
    "## 5. ANN Classifier"
   ]
  },
  {
   "cell_type": "markdown",
   "id": "64754e5f-11f8-45f6-b67c-81aa7898afa4",
   "metadata": {},
   "source": [
    "### 5.a No dimensionality reduction \n",
    "This block runs the MultiLayer Perceptron (without dimensionality reduction) with the split and scaled data and outputs some metrics. You can also save and load a pretrained model file running block 5.a.a and 5.a.b"
   ]
  },
  {
   "cell_type": "code",
   "execution_count": 10,
   "id": "a69cb312",
   "metadata": {},
   "outputs": [],
   "source": [
    "from sklearn.model_selection import train_test_split\n",
    "\n",
    "# split the dataset into training and testing data\n",
    "feat_train, feat_test, lab_train, lab_test = train_test_split(features, labels, test_size=0.2, random_state=7)"
   ]
  },
  {
   "cell_type": "code",
   "execution_count": 11,
   "id": "5e1c1642",
   "metadata": {},
   "outputs": [],
   "source": [
    "# Construct a scaler object\n",
    "scaler = sklearn.preprocessing.StandardScaler()\n",
    "\n",
    "# Train scaler using training data\n",
    "scaler.fit(feat_train)\n",
    "\n",
    "# Scale training data and test data using the scaler\n",
    "feat_train = scaler.transform(feat_train)\n",
    "feat_test = scaler.transform(feat_test)"
   ]
  },
  {
   "cell_type": "code",
   "execution_count": 12,
   "id": "275fc885-e19e-426f-b074-4249589d56c7",
   "metadata": {
    "scrolled": false
   },
   "outputs": [
    {
     "name": "stdout",
     "output_type": "stream",
     "text": [
      "Accuracy: 0.9396367521367521\n"
     ]
    },
    {
     "data": {
      "image/png": "[encoded data removed]",
      "text/plain": [
       "<Figure size 432x288 with 1 Axes>"
      ]
     },
     "metadata": {
      "needs_background": "light"
     },
     "output_type": "display_data"
    },
    {
     "name": "stdout",
     "output_type": "stream",
     "text": [
      "Number of mislabeled samples 113 out of 1872\n",
      "Accuracy: 0.9396367521367521\n",
      "              precision    recall  f1-score   support\n",
      "\n",
      "         0.0       0.87      0.85      0.86       377\n",
      "         1.0       1.00      1.00      1.00       391\n",
      "         2.0       0.97      0.98      0.97       242\n",
      "         3.0       0.99      0.98      0.99       363\n",
      "         4.0       0.87      0.89      0.88       378\n",
      "         5.0       0.98      0.97      0.97       121\n",
      "\n",
      "    accuracy                           0.94      1872\n",
      "   macro avg       0.95      0.94      0.95      1872\n",
      "weighted avg       0.94      0.94      0.94      1872\n",
      "\n"
     ]
    },
    {
     "data": {
      "image/png": "[encoded data removed]",
      "text/plain": [
       "<Figure size 432x288 with 2 Axes>"
      ]
     },
     "metadata": {
      "needs_background": "light"
     },
     "output_type": "display_data"
    }
   ],
   "source": [
    "from sklearn.neural_network import MLPClassifier\n",
    "\n",
    "# Construct MultiLayer Perceptron object\n",
    "mlp = MLPClassifier(hidden_layer_sizes=(100,50,100), max_iter=10000, activation='relu', verbose=False)\n",
    "\n",
    "# Train the MLP using the training data\n",
    "mlp.fit(feat_train, lab_train)\n",
    "\n",
    "# Run the model on the test data to get an accuracy score\n",
    "lab_predict = mlp.predict(feat_test)\n",
    "print('Accuracy:',sklearn.metrics.accuracy_score(lab_test, lab_predict))\n",
    "\n",
    "# Plot the loss curve\n",
    "plt.plot(mlp.loss_curve_)\n",
    "plt.xlabel('iteration')\n",
    "plt.ylabel('loss')\n",
    "plt.show()\n",
    "\n",
    "# Print out metrics and plot a pretty confusion matrix\n",
    "print('Number of mislabeled samples %d out of %d' % ((lab_test != lab_predict).sum(),lab_test.size))\n",
    "print('Accuracy:',sklearn.metrics.accuracy_score(lab_test, lab_predict))\n",
    "print(sklearn.metrics.classification_report(lab_test, lab_predict))\n",
    "disp = sklearn.metrics.plot_confusion_matrix(mlp, feat_test, lab_test, display_labels=classes, cmap=plt.cm.Blues, normalize=\"true\", values_format=\".3f\")"
   ]
  },
  {
   "cell_type": "markdown",
   "id": "90df48d2",
   "metadata": {},
   "source": [
    "#### 5.a.a Save trained model"
   ]
  },
  {
   "cell_type": "code",
   "execution_count": null,
   "id": "1b0cfdb5",
   "metadata": {},
   "outputs": [],
   "source": [
    "# Save the model\n",
    "dump(mlp, 'mlp.joblib')"
   ]
  },
  {
   "cell_type": "markdown",
   "id": "9cc827db",
   "metadata": {},
   "source": [
    "#### 5.a.b Load trained model"
   ]
  },
  {
   "cell_type": "code",
   "execution_count": 13,
   "id": "451ebf68",
   "metadata": {},
   "outputs": [
    {
     "name": "stdout",
     "output_type": "stream",
     "text": [
      "Accuracy: 0.9465811965811965\n"
     ]
    }
   ],
   "source": [
    "# Load the model and run a quick test\n",
    "mlp = load('mlp.joblib')\n",
    "lab_predict = mlp.predict(feat_test)\n",
    "print('Accuracy:',sklearn.metrics.accuracy_score(lab_test, lab_predict))"
   ]
  },
  {
   "cell_type": "markdown",
   "id": "c6af0f63-1045-4b8e-87c4-3db3d7983463",
   "metadata": {},
   "source": [
    "### 5.b With dimensionality reduction\n",
    "This block runs the MultiLayer Perceptron (with dimensionality reduction) with the split and scaled data and outputs some metrics. You can also save and load a pretrained model file running block 5.b.a and 5.b.b"
   ]
  },
  {
   "cell_type": "code",
   "execution_count": 14,
   "id": "d050df0f",
   "metadata": {},
   "outputs": [],
   "source": [
    "from sklearn.model_selection import train_test_split\n",
    "\n",
    "# split the dataset into training and testing data\n",
    "proj_feat_train, proj_feat_test, lab_train, lab_test = train_test_split(projected_features, labels, test_size=0.2, random_state=7)"
   ]
  },
  {
   "cell_type": "code",
   "execution_count": 15,
   "id": "46d7349b",
   "metadata": {},
   "outputs": [],
   "source": [
    "# Construct a scaler object\n",
    "scaler = sklearn.preprocessing.StandardScaler()\n",
    "\n",
    "# Train scaler using training data\n",
    "scaler.fit(proj_feat_train)\n",
    "\n",
    "# Scale training data and test data using the scaler\n",
    "feat_train = scaler.transform(proj_feat_train)\n",
    "feat_test = scaler.transform(proj_feat_test)"
   ]
  },
  {
   "cell_type": "code",
   "execution_count": null,
   "id": "1a5be92d-c5e4-499c-8d6b-11b94ee27744",
   "metadata": {},
   "outputs": [],
   "source": [
    "from sklearn.neural_network import MLPClassifier\n",
    "\n",
    "# Construct MultiLayer Perceptron object\n",
    "mlp = MLPClassifier(hidden_layer_sizes=(10,5,10), max_iter=10000, activation='relu', verbose=False)\n",
    "\n",
    "# Train the MLP using the training data\n",
    "mlp.fit(proj_feat_train, lab_train)\n",
    "\n",
    "# Run the model on the test data to get an accuracy score\n",
    "lab_predict = mlp.predict(proj_feat_test)\n",
    "print('Accuracy:',sklearn.metrics.accuracy_score(lab_test, lab_predict))\n",
    "\n",
    "# Plot the loss curve\n",
    "plt.plot(mlp.loss_curve_)\n",
    "plt.xlabel('iteration')\n",
    "plt.ylabel('loss')\n",
    "plt.show()\n",
    "\n",
    "# Print out metrics and plot a pretty confusion matrix\n",
    "print('Number of mislabeled samples %d out of %d' % ((lab_test != lab_predict).sum(),lab_test.size))\n",
    "print('Accuracy:',sklearn.metrics.accuracy_score(lab_test, lab_predict))\n",
    "print(sklearn.metrics.classification_report(lab_test, lab_predict))\n",
    "disp = sklearn.metrics.plot_confusion_matrix(mlp, proj_feat_test, lab_test, display_labels=classes, cmap=plt.cm.Blues, normalize=\"true\", values_format=\".3f\")"
   ]
  },
  {
   "cell_type": "markdown",
   "id": "458e131e",
   "metadata": {},
   "source": [
    "#### 5.b.a Save trained model"
   ]
  },
  {
   "cell_type": "code",
   "execution_count": null,
   "id": "4145528c",
   "metadata": {},
   "outputs": [],
   "source": [
    "# Save the model\n",
    "dump(mlp, 'mlp_lda.joblib')"
   ]
  },
  {
   "cell_type": "markdown",
   "id": "2d900ef6",
   "metadata": {},
   "source": [
    "#### 5.b.b Load trained model"
   ]
  },
  {
   "cell_type": "code",
   "execution_count": 16,
   "id": "55231535",
   "metadata": {},
   "outputs": [
    {
     "name": "stdout",
     "output_type": "stream",
     "text": [
      "Accuracy: 0.9706196581196581\n"
     ]
    }
   ],
   "source": [
    "# Load the model and run a quick test\n",
    "mlp = load('mlp_lda.joblib')\n",
    "lab_predict = mlp.predict(proj_feat_test)\n",
    "print('Accuracy:',sklearn.metrics.accuracy_score(lab_test, lab_predict))"
   ]
  },
  {
   "cell_type": "markdown",
   "id": "4a86ba8a-0740-4685-a7e4-4b646342719c",
   "metadata": {},
   "source": [
    "## 6. K-Fold Cross Validation\n",
    "This section runs a stratified K-fold cross validation on the different configurations\n",
    "\n",
    "\n",
    "### 6.a SVM - With dimensionality reduction"
   ]
  },
  {
   "cell_type": "code",
   "execution_count": null,
   "id": "532d7be6",
   "metadata": {},
   "outputs": [],
   "source": [
    "# Creating pipeline\n",
    "from sklearn.pipeline import Pipeline\n",
    "from sklearn.preprocessing import StandardScaler\n",
    "from sklearn.svm import SVC\n",
    "pipe = Pipeline([('lda', LinearDiscriminantAnalysis()),\n",
    "                 ('scaler', StandardScaler()),\n",
    "                 ('classifier', SVC(kernel='rbf', C=2.0, verbose=True))\n",
    "                ])\n",
    "\n",
    "skf = sklearn.model_selection.StratifiedKFold()\n",
    "scores = sklearn.model_selection.cross_validate(pipe, features, labels, cv=skf, scoring=('f1_macro', 'accuracy'), return_train_score=True)\n",
    "\n",
    "print(scores,'\\n')\n",
    "print('Accuracy mean and variance', np.mean(scores['test_accuracy']),np.var(scores['test_accuracy']),'\\n')\n",
    "print('F1 macro mean and variance', np.mean(scores['test_f1_macro']),np.var(scores['test_f1_macro']),'\\n')"
   ]
  },
  {
   "cell_type": "markdown",
   "id": "54535039",
   "metadata": {},
   "source": [
    "### 6.b MLP - No dimensionality reduction"
   ]
  },
  {
   "cell_type": "code",
   "execution_count": null,
   "id": "fcad2cf7-e268-46d2-aa26-81681e713953",
   "metadata": {},
   "outputs": [],
   "source": [
    "# Creating pipeline\n",
    "from sklearn.pipeline import Pipeline\n",
    "from sklearn.preprocessing import StandardScaler\n",
    "from sklearn.neural_network import MLPClassifier\n",
    "pipe = Pipeline([('scaler', StandardScaler()),\n",
    "                 ('classifier', MLPClassifier(hidden_layer_sizes=(100,50,100), max_iter=10000, activation='relu', verbose=False))\n",
    "                ])\n",
    "\n",
    "skf = sklearn.model_selection.StratifiedKFold()\n",
    "scores = sklearn.model_selection.cross_validate(pipe, features, labels, cv=skf, scoring=('f1_macro', 'accuracy'), return_train_score=True)\n",
    "\n",
    "print(scores,'\\n')\n",
    "print('Accuracy mean and variance', np.mean(scores['test_accuracy']),np.var(scores['test_accuracy']),'\\n')\n",
    "print('F1 macro mean and variance', np.mean(scores['test_f1_macro']),np.var(scores['test_f1_macro']),'\\n')"
   ]
  },
  {
   "cell_type": "markdown",
   "id": "d43db610",
   "metadata": {},
   "source": [
    "### 6.c MLP - With dimensionality reduction"
   ]
  },
  {
   "cell_type": "code",
   "execution_count": null,
   "id": "680f8ab5",
   "metadata": {},
   "outputs": [],
   "source": [
    "# Creating pipeline\n",
    "from sklearn.pipeline import Pipeline\n",
    "from sklearn.preprocessing import StandardScaler\n",
    "from sklearn.neural_network import MLPClassifier\n",
    "from sklearn.discriminant_analysis import LinearDiscriminantAnalysis\n",
    "pipe = Pipeline([('lda', LinearDiscriminantAnalysis()),\n",
    "                 ('scaler', StandardScaler()),\n",
    "                 ('classifier', MLPClassifier(hidden_layer_sizes=(10,5,10), max_iter=10000, activation='relu', verbose=False))\n",
    "                ])\n",
    "\n",
    "skf = sklearn.model_selection.StratifiedKFold()\n",
    "scores = sklearn.model_selection.cross_validate(pipe, features, labels, cv=skf, scoring=('f1_macro', 'accuracy'), return_train_score=True)\n",
    "\n",
    "print(scores,'\\n')\n",
    "print('Accuracy mean and variance', np.mean(scores['test_accuracy']),np.var(scores['test_accuracy']),'\\n')\n",
    "print('F1 macro mean and variance', np.mean(scores['test_f1_macro']),np.var(scores['test_f1_macro']),'\\n')"
   ]
  },
  {
   "cell_type": "markdown",
   "id": "f4848601-99be-4c5e-8d02-44412a63c947",
   "metadata": {},
   "source": [
    "## 7. Repeated K-Fold Cross Validation\n",
    "This section runs the final repeated stratified K-fold cross validation used to compare the different configurations. These operations obviously takes a long time to run.\n",
    "\n",
    "### 7.a SVC with dimensionality reduction"
   ]
  },
  {
   "cell_type": "code",
   "execution_count": null,
   "id": "521c8ca6",
   "metadata": {},
   "outputs": [],
   "source": [
    "# Creating pipeline\n",
    "from sklearn.pipeline import Pipeline\n",
    "from sklearn.preprocessing import StandardScaler\n",
    "from sklearn.svm import SVC\n",
    "pipe = Pipeline([('lda', LinearDiscriminantAnalysis()),\n",
    "                 ('scaler', StandardScaler()),\n",
    "                 ('classifier', SVC(kernel='rbf', C=2.0, verbose=True))\n",
    "                ])\n",
    "\n",
    "rskf = sklearn.model_selection.RepeatedStratifiedKFold(n_splits=5, n_repeats=10)\n",
    "scores = sklearn.model_selection.cross_validate(pipe, features, labels, cv=rskf, scoring=('f1_macro', 'accuracy'), return_train_score=True)\n",
    "\n",
    "print(scores,'\\n')\n",
    "print('Accuracy mean and variance', np.mean(scores['test_accuracy']),np.var(scores['test_accuracy']),'\\n')\n",
    "print('F1 macro mean and variance', np.mean(scores['test_f1_macro']),np.var(scores['test_f1_macro']),'\\n')"
   ]
  },
  {
   "cell_type": "markdown",
   "id": "e2038189",
   "metadata": {},
   "source": [
    "### 7.b MLP - no dimensionality reduction"
   ]
  },
  {
   "cell_type": "code",
   "execution_count": null,
   "id": "429af360-d076-49a5-bd8d-cff4027fb56d",
   "metadata": {},
   "outputs": [],
   "source": [
    "# Creating pipeline\n",
    "from sklearn.pipeline import Pipeline\n",
    "from sklearn.preprocessing import StandardScaler\n",
    "from sklearn.neural_network import MLPClassifier\n",
    "pipe = Pipeline([('scaler', StandardScaler()),\n",
    "                 ('classifier', MLPClassifier(hidden_layer_sizes=(100,50,100), max_iter=10000, activation='relu', verbose=False))\n",
    "                ])\n",
    "\n",
    "rskf = sklearn.model_selection.RepeatedStratifiedKFold(n_splits=5, n_repeats=10)\n",
    "scores = sklearn.model_selection.cross_validate(pipe, features, labels, cv=rskf, scoring=('f1_macro', 'accuracy'), return_train_score=True)\n",
    "\n",
    "print(scores,'\\n')\n",
    "print('Accuracy mean and variance', np.mean(scores['test_accuracy']),np.var(scores['test_accuracy']),'\\n')\n",
    "print('F1 macro mean and variance', np.mean(scores['test_f1_macro']),np.var(scores['test_f1_macro']),'\\n')"
   ]
  },
  {
   "cell_type": "markdown",
   "id": "c77d1201",
   "metadata": {},
   "source": [
    "### 7.b With dimensionality reduction"
   ]
  },
  {
   "cell_type": "code",
   "execution_count": null,
   "id": "45366e4f",
   "metadata": {},
   "outputs": [],
   "source": [
    "# Creating pipeline\n",
    "from sklearn.pipeline import Pipeline\n",
    "from sklearn.preprocessing import StandardScaler\n",
    "from sklearn.neural_network import MLPClassifier\n",
    "from sklearn.discriminant_analysis import LinearDiscriminantAnalysis\n",
    "pipe = Pipeline([('scaler', StandardScaler()),\n",
    "                 ('lda', LinearDiscriminantAnalysis()),\n",
    "                 ('classifier', MLPClassifier(hidden_layer_sizes=(10,5,10), max_iter=10000, activation='relu', verbose=False))\n",
    "                ])\n",
    "\n",
    "rskf = sklearn.model_selection.RepeatedStratifiedKFold(n_splits=5, n_repeats=10)\n",
    "scores = sklearn.model_selection.cross_validate(pipe, features, labels, cv=rskf, scoring=('f1_macro', 'accuracy'), return_train_score=True)\n",
    "\n",
    "print(scores,'\\n')\n",
    "print('Accuracy mean and variance', np.mean(scores['test_accuracy']),np.var(scores['test_accuracy']),'\\n')\n",
    "print('F1 macro mean and variance', np.mean(scores['test_f1_macro']),np.var(scores['test_f1_macro']),'\\n')"
   ]
  },
  {
   "cell_type": "markdown",
   "id": "ce5ec8a9-66a0-49d2-b744-2c910af5c41f",
   "metadata": {},
   "source": [
    "## 8. Grid search\n",
    "This section is just to show how I implemented the grid search. The grid parameters for both blocks have been changed multiple times over the course of this project, to estimate multiple different hyperparameters."
   ]
  },
  {
   "cell_type": "markdown",
   "id": "eedef218-9283-48af-bb87-b23ff7f3bb1f",
   "metadata": {},
   "source": [
    "### 8.a SVM parameter search"
   ]
  },
  {
   "cell_type": "code",
   "execution_count": null,
   "id": "835ead84-6b31-42b1-a9f7-ef94e3032775",
   "metadata": {},
   "outputs": [],
   "source": [
    "from sklearn.pipeline import Pipeline\n",
    "from sklearn.preprocessing import StandardScaler\n",
    "from sklearn.svm import SVC\n",
    "from sklearn.discriminant_analysis import LinearDiscriminantAnalysis\n",
    "\n",
    "pipe = Pipeline([('scaler', StandardScaler()),\n",
    "                 ('lda', LinearDiscriminantAnalysis()),\n",
    "                 ('classifier', SVC())])\n",
    "\n",
    "rskf = sklearn.model_selection.RepeatedStratifiedKFold(n_splits=5, n_repeats=10)\n",
    "grid_params = {\n",
    "    'classifier__C':[2,3,4,5]\n",
    "}\n",
    "\n",
    "grid_search = sklearn.model_selection.GridSearchCV(estimator=pipe, param_grid=grid_params, scoring='accuracy', cv=rskf, n_jobs=-1)\n",
    "grid_search.fit(features,labels)\n",
    "\n",
    "print('best set of parameters', grid_search.best_params_)\n",
    "print('associated best score',grid_search.best_score_)      "
   ]
  },
  {
   "cell_type": "markdown",
   "id": "2477b09e-a31a-498c-9aad-aeeba8253071",
   "metadata": {},
   "source": [
    "### 8.b MLP parameter search"
   ]
  },
  {
   "cell_type": "code",
   "execution_count": null,
   "id": "8f01e476-0d46-4854-a1b6-a5a41d1c349a",
   "metadata": {},
   "outputs": [],
   "source": [
    "# Creating pipeline\n",
    "from sklearn.pipeline import Pipeline\n",
    "from sklearn.preprocessing import StandardScaler\n",
    "from sklearn.neural_network import MLPClassifier\n",
    "from sklearn.discriminant_analysis import LinearDiscriminantAnalysis\n",
    "pipe = Pipeline([('scaler', StandardScaler()),\n",
    "                 #('lda', LinearDiscriminantAnalysis()),\n",
    "                 ('classifier', MLPClassifier(hidden_layer_sizes=(10,5,10), max_iter=10000, activation='relu'))\n",
    "                ])\n",
    "\n",
    "rskf = sklearn.model_selection.RepeatedStratifiedKFold(n_splits=5, n_repeats=10)\n",
    "grid_params = {\n",
    "    'classifier__hidden_layer_sizes':[(10,5,10),(100,50,100),(1000,500,1000)]\n",
    "}\n",
    "                                                       \n",
    "grid_search = sklearn.model_selection.GridSearchCV(estimator=pipe, param_grid=grid_params, scoring='accuracy',cv=rskf,n_jobs=-1)\n",
    "grid_search.fit(features, labels)\n",
    "                                                       \n",
    "print('best set of parameters', grid_search.best_params_)\n",
    "print('associated best score',grid_search.best_score_)                                                       \n",
    "                                                       "
   ]
  }
 ],
 "metadata": {
  "kernelspec": {
   "display_name": "Python 3 (ipykernel)",
   "language": "python",
   "name": "python3"
  },
  "language_info": {
   "codemirror_mode": {
    "name": "ipython",
    "version": 3
   },
   "file_extension": ".py",
   "mimetype": "text/x-python",
   "name": "python",
   "nbconvert_exporter": "python",
   "pygments_lexer": "ipython3",
   "version": "3.8.0"
  }
 },
 "nbformat": 4,
 "nbformat_minor": 5
}
