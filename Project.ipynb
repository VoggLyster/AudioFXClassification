{
 "cells": [
  {
   "cell_type": "markdown",
   "id": "3878a98c-cbee-4b51-8696-216b7cb54d6e",
   "metadata": {},
   "source": [
    "# Classify audio effects on guitar samples"
   ]
  },
  {
   "cell_type": "markdown",
   "id": "ce055998-ef33-4ccf-8588-262df6ea618b",
   "metadata": {},
   "source": [
    "## 0. Import and config"
   ]
  },
  {
   "cell_type": "code",
   "execution_count": 1,
   "id": "355f98ee-649d-413e-8037-f935aa23b664",
   "metadata": {},
   "outputs": [],
   "source": [
    "import os\n",
    "import time\n",
    "import numpy as np\n",
    "import pandas as pd\n",
    "import scipy\n",
    "import librosa, librosa.display\n",
    "import matplotlib.pyplot as plt\n",
    "%matplotlib inline\n",
    "import matplotlib.style as ms\n",
    "ms.use('seaborn-muted')\n",
    "import IPython.display as Ipd\n",
    "import sklearn"
   ]
  },
  {
   "cell_type": "code",
   "execution_count": 13,
   "id": "2076f594-cfe1-4fc2-8c34-3713b0cffa1b",
   "metadata": {},
   "outputs": [
    {
     "name": "stdout",
     "output_type": "stream",
     "text": [
      "Full feature size: 2423\n",
      "Reduced feature size: 520\n"
     ]
    }
   ],
   "source": [
    "# Setup variables\n",
    "samplerate = 44100\n",
    "sample_len = 2*samplerate\n",
    "n_mfcc = 13\n",
    "hop_len = 512\n",
    "segment_len = int(np.ceil(sample_len/hop_len))\n",
    "mfcc_len = segment_len\n",
    "spectral_bandwidth_len = segment_len\n",
    "spectral_flatness_len = 1\n",
    "feature_len = mfcc_len*n_mfcc + spectral_bandwidth_len + spectral_flatness_len\n",
    "feature_reduced_len = mfcc_len*2 + spectral_bandwidth_len + spectral_flatness_len\n",
    "print(\"Full feature size: %i\" % feature_len)\n",
    "print(\"Reduced feature size: %i\" % feature_reduced_len)"
   ]
  },
  {
   "cell_type": "markdown",
   "id": "b5642e81-0ec9-4269-a18d-b85c1b9aba83",
   "metadata": {},
   "source": [
    "## 1. Import and prepare data"
   ]
  },
  {
   "cell_type": "code",
   "execution_count": 21,
   "id": "abe49be9-ea01-4fef-b0fa-405e9c2bcbb3",
   "metadata": {},
   "outputs": [
    {
     "name": "stdout",
     "output_type": "stream",
     "text": [
      "Number of samples: 9360\n"
     ]
    }
   ],
   "source": [
    "#get audio files\n",
    "fileswchorus = os.listdir('./DataSet/Samples/Chorus')\n",
    "fileswdistortion = os.listdir('./DataSet/Samples/Distortion')\n",
    "filesweq = os.listdir('./DataSet/Samples/EQ')\n",
    "fileswdelay = os.listdir('./DataSet/Samples/FeedbackDelay')\n",
    "fileswflanger = os.listdir('./DataSet/Samples/Flanger')\n",
    "fileswnofx = os.listdir('./DataSet/Samples/NoFX')\n",
    "\n",
    "#calc number of samples\n",
    "n_data = len(fileswchorus)+len(fileswdistortion)+len(filesweq)+len(fileswdelay)+len(fileswflanger)+len(fileswnofx)\n",
    "print(\"Number of samples: %i\" % n_data)\n",
    "\n",
    "#setup classes\n",
    "labels = np.zeros(n_data)\n",
    "features_full = np.zeros((n_data, feature_len))\n",
    "features_reduced = np.zeros((n_data, feature_reduced_len))\n",
    "classes = ['Chorus','Distortion','EQ','FeedbackDelay','Flanger','NoFX']"
   ]
  },
  {
   "cell_type": "markdown",
   "id": "be432f12-3599-4327-8e0e-89327865732a",
   "metadata": {},
   "source": [
    "## 2.a Extract features"
   ]
  },
  {
   "cell_type": "markdown",
   "id": "516bc7a6-eb38-4055-a1f7-f524adb7efd8",
   "metadata": {},
   "source": [
    "### Extract full MFCCs, spectral bandwidth, and spectral flatness"
   ]
  },
  {
   "cell_type": "code",
   "execution_count": 35,
   "id": "e55ba774-4fc4-45cc-bc9a-fdef2c0347ed",
   "metadata": {},
   "outputs": [
    {
     "name": "stdout",
     "output_type": "stream",
     "text": [
      "9360/9360 samples processed\n",
      "Feature extraction done\n",
      "Took 540 seconds\n"
     ]
    }
   ],
   "source": [
    "from IPython.display import clear_output\n",
    "start_time = time.time()\n",
    "count = 0\n",
    "\n",
    "def extract_features(filename, count=0):\n",
    "    signal, dummy = librosa.load(filename, samplerate, mono=True)\n",
    "    mfccs = librosa.feature.mfcc(signal, samplerate, n_mfcc=n_mfcc, hop_length=hop_len).flatten()\n",
    "    spectral_bandwidth = librosa.feature.spectral_bandwidth(signal, samplerate).flatten()\n",
    "    spectral_flatness = np.mean(librosa.feature.spectral_flatness(signal).flatten())\n",
    "    output = np.append(np.concatenate((mfccs, spectral_bandwidth)),spectral_flatness)\n",
    "    clear_output(wait=True)\n",
    "    print(\"%i/%i samples processed\" % (count, n_data))\n",
    "    return output\n",
    "    \n",
    "idx = 0\n",
    "    \n",
    "for x in fileswchorus:\n",
    "    count = count+1\n",
    "    output = extract_features('./DataSet/Samples/Chorus/' + x, count)\n",
    "    features_full[idx,:] = output\n",
    "    labels[idx] = 0\n",
    "    idx = idx+1\n",
    "    \n",
    "for x in fileswdistortion:\n",
    "    count = count+1\n",
    "    output = extract_features('./DataSet/Samples/Distortion/' + x, count)\n",
    "    features_full[idx,:] = output\n",
    "    labels[idx] = 1\n",
    "    idx = idx+1    \n",
    "        \n",
    "for x in filesweq:\n",
    "    count = count+1\n",
    "    output = extract_features('./DataSet/Samples/EQ/' + x, count)\n",
    "    features_full[idx,:] = output\n",
    "    labels[idx] = 2\n",
    "    idx = idx+1    \n",
    "    \n",
    "for x in fileswdelay:\n",
    "    count = count+1\n",
    "    output = extract_features('./DataSet/Samples/FeedbackDelay/' + x, count)\n",
    "    features_full[idx,:] = output\n",
    "    labels[idx] = 3\n",
    "    idx = idx+1    \n",
    "\n",
    "for x in fileswflanger:\n",
    "    count = count+1\n",
    "    output = extract_features('./DataSet/Samples/Flanger/' + x, count)\n",
    "    features_full[idx,:] = output\n",
    "    labels[idx] = 4\n",
    "    idx = idx+1    \n",
    "\n",
    "for x in fileswnofx:\n",
    "    count = count+1\n",
    "    output = extract_features('./DataSet/Samples/NoFX/' + x, count)\n",
    "    features_full[idx,:] = output\n",
    "    labels[idx] = 5\n",
    "    idx = idx+1    \n",
    "\n",
    "print(\"Feature extraction done\")\n",
    "print(\"Took %d seconds\" % (time.time() - start_time))"
   ]
  },
  {
   "cell_type": "markdown",
   "id": "cbcede8e-ee01-4d2c-9293-376327e3641b",
   "metadata": {},
   "source": [
    "### Extract MFCC mean and variance, spectral bandwidth, and spectral flatness"
   ]
  },
  {
   "cell_type": "code",
   "execution_count": 36,
   "id": "be1e5902-576c-4fad-b24c-00b6b33ea43a",
   "metadata": {},
   "outputs": [
    {
     "name": "stdout",
     "output_type": "stream",
     "text": [
      "9360/9360 samples processed\n",
      "Feature extraction done\n",
      "Took 550 seconds\n"
     ]
    }
   ],
   "source": [
    "from IPython.display import clear_output\n",
    "start_time = time.time()\n",
    "count = 0\n",
    "\n",
    "def extract_features(filename, count=0):\n",
    "    signal, dummy = librosa.load(filename, samplerate, mono=True)\n",
    "    mfccs = librosa.feature.mfcc(signal, samplerate, n_mfcc=n_mfcc, hop_length=hop_len)\n",
    "    mfccs_mean = np.mean(mfccs,0).flatten()\n",
    "    mfccs_std = np.std(mfccs,0).flatten()\n",
    "    spec_band = librosa.feature.spectral_bandwidth(signal, samplerate).flatten()\n",
    "    spec_flatness = np.mean(librosa.feature.spectral_flatness(signal).flatten())\n",
    "    output = np.append(np.concatenate((mfccs_mean, mfccs_std, spec_band)),spec_flatness)\n",
    "    clear_output(wait=True)\n",
    "    print(\"%i/%i samples processed\" % (count, n_data))\n",
    "    return output\n",
    "    \n",
    "idx = 0\n",
    "    \n",
    "for x in fileswchorus:\n",
    "    count = count+1\n",
    "    output = extract_features('./DataSet/Samples/Chorus/' + x, count)\n",
    "    features_reduced[idx,:] = output\n",
    "    labels[idx] = 0\n",
    "    idx = idx+1\n",
    "    \n",
    "for x in fileswdistortion:\n",
    "    count = count+1\n",
    "    output = extract_features('./DataSet/Samples/Distortion/' + x, count)\n",
    "    features_reduced[idx,:] = output\n",
    "    labels[idx] = 1\n",
    "    idx = idx+1    \n",
    "        \n",
    "for x in filesweq:\n",
    "    count = count+1\n",
    "    output = extract_features('./DataSet/Samples/EQ/' + x, count)\n",
    "    features_reduced[idx,:] = output\n",
    "    labels[idx] = 2\n",
    "    idx = idx+1    \n",
    "    \n",
    "for x in fileswdelay:\n",
    "    count = count+1\n",
    "    output = extract_features('./DataSet/Samples/FeedbackDelay/' + x, count)\n",
    "    features_reduced[idx,:] = output\n",
    "    labels[idx] = 3\n",
    "    idx = idx+1    \n",
    "\n",
    "for x in fileswflanger:\n",
    "    count = count+1\n",
    "    output = extract_features('./DataSet/Samples/Flanger/' + x, count)\n",
    "    features_reduced[idx,:] = output\n",
    "    labels[idx] = 4\n",
    "    idx = idx+1    \n",
    "\n",
    "for x in fileswnofx:\n",
    "    count = count+1\n",
    "    output = extract_features('./DataSet/Samples/NoFX/' + x, count)\n",
    "    features_reduced[idx,:] = output\n",
    "    labels[idx] = 5\n",
    "    idx = idx+1    \n",
    "\n",
    "print(\"Feature extraction done\")\n",
    "print(\"Took %d seconds\" % (time.time() - start_time))"
   ]
  },
  {
   "cell_type": "code",
   "execution_count": 37,
   "id": "22802830-ea9c-4d6d-a635-97ddde2803d0",
   "metadata": {},
   "outputs": [],
   "source": [
    "labels = pd.DataFrame(labels)\n",
    "labels.columns = ['labels']\n",
    "labels = labels['labels']"
   ]
  },
  {
   "cell_type": "markdown",
   "id": "3c13ca1f-93ed-4756-8b8f-ace2be23da5f",
   "metadata": {},
   "source": [
    "### Save features to .csv"
   ]
  },
  {
   "cell_type": "code",
   "execution_count": 6,
   "id": "39cfd188-635c-4b0b-8e23-e1bf281dfffd",
   "metadata": {},
   "outputs": [
    {
     "data": {
      "text/html": [
       "<div>\n",
       "<style scoped>\n",
       "    .dataframe tbody tr th:only-of-type {\n",
       "        vertical-align: middle;\n",
       "    }\n",
       "\n",
       "    .dataframe tbody tr th {\n",
       "        vertical-align: top;\n",
       "    }\n",
       "\n",
       "    .dataframe thead th {\n",
       "        text-align: right;\n",
       "    }\n",
       "</style>\n",
       "<table border=\"1\" class=\"dataframe\">\n",
       "  <thead>\n",
       "    <tr style=\"text-align: right;\">\n",
       "      <th></th>\n",
       "      <th>Feat 0</th>\n",
       "      <th>Feat 1</th>\n",
       "      <th>Feat 2</th>\n",
       "      <th>Feat 3</th>\n",
       "      <th>Feat 4</th>\n",
       "      <th>Feat 5</th>\n",
       "      <th>Feat 6</th>\n",
       "      <th>Feat 7</th>\n",
       "      <th>Feat 8</th>\n",
       "      <th>Feat 9</th>\n",
       "      <th>...</th>\n",
       "      <th>Feat 1123</th>\n",
       "      <th>Feat 1124</th>\n",
       "      <th>Feat 1125</th>\n",
       "      <th>Feat 1126</th>\n",
       "      <th>Feat 1127</th>\n",
       "      <th>Feat 1128</th>\n",
       "      <th>Feat 1129</th>\n",
       "      <th>Feat 1130</th>\n",
       "      <th>label digit</th>\n",
       "      <th>label text</th>\n",
       "    </tr>\n",
       "  </thead>\n",
       "  <tbody>\n",
       "    <tr>\n",
       "      <th>0</th>\n",
       "      <td>-784.702332</td>\n",
       "      <td>-784.702332</td>\n",
       "      <td>-784.702332</td>\n",
       "      <td>-783.191589</td>\n",
       "      <td>-780.561096</td>\n",
       "      <td>-780.741699</td>\n",
       "      <td>-779.379578</td>\n",
       "      <td>-780.059937</td>\n",
       "      <td>-780.545044</td>\n",
       "      <td>-779.264648</td>\n",
       "      <td>...</td>\n",
       "      <td>-9.980167</td>\n",
       "      <td>-9.575130</td>\n",
       "      <td>-11.077902</td>\n",
       "      <td>-10.313608</td>\n",
       "      <td>-9.547455</td>\n",
       "      <td>-8.738466</td>\n",
       "      <td>-9.587674</td>\n",
       "      <td>-6.503111</td>\n",
       "      <td>0.0</td>\n",
       "      <td>Chorus</td>\n",
       "    </tr>\n",
       "    <tr>\n",
       "      <th>1</th>\n",
       "      <td>-761.046631</td>\n",
       "      <td>-761.046631</td>\n",
       "      <td>-761.046631</td>\n",
       "      <td>-760.790771</td>\n",
       "      <td>-758.623718</td>\n",
       "      <td>-758.156921</td>\n",
       "      <td>-756.930786</td>\n",
       "      <td>-757.317566</td>\n",
       "      <td>-757.418396</td>\n",
       "      <td>-756.323364</td>\n",
       "      <td>...</td>\n",
       "      <td>-11.614445</td>\n",
       "      <td>-10.615732</td>\n",
       "      <td>-10.760288</td>\n",
       "      <td>-10.884594</td>\n",
       "      <td>-8.935947</td>\n",
       "      <td>-10.373097</td>\n",
       "      <td>-10.659937</td>\n",
       "      <td>-7.882442</td>\n",
       "      <td>0.0</td>\n",
       "      <td>Chorus</td>\n",
       "    </tr>\n",
       "    <tr>\n",
       "      <th>2</th>\n",
       "      <td>-755.930176</td>\n",
       "      <td>-755.930176</td>\n",
       "      <td>-755.930176</td>\n",
       "      <td>-755.882141</td>\n",
       "      <td>-755.104919</td>\n",
       "      <td>-753.960022</td>\n",
       "      <td>-752.564697</td>\n",
       "      <td>-752.798523</td>\n",
       "      <td>-752.437561</td>\n",
       "      <td>-752.191284</td>\n",
       "      <td>...</td>\n",
       "      <td>-9.644500</td>\n",
       "      <td>-5.715909</td>\n",
       "      <td>-3.048868</td>\n",
       "      <td>-2.390507</td>\n",
       "      <td>-0.943978</td>\n",
       "      <td>-2.096195</td>\n",
       "      <td>-3.543271</td>\n",
       "      <td>-2.525408</td>\n",
       "      <td>0.0</td>\n",
       "      <td>Chorus</td>\n",
       "    </tr>\n",
       "    <tr>\n",
       "      <th>3</th>\n",
       "      <td>-775.834900</td>\n",
       "      <td>-775.834900</td>\n",
       "      <td>-775.834900</td>\n",
       "      <td>-775.834900</td>\n",
       "      <td>-775.834900</td>\n",
       "      <td>-771.108582</td>\n",
       "      <td>-766.405090</td>\n",
       "      <td>-763.087646</td>\n",
       "      <td>-762.393433</td>\n",
       "      <td>-763.058472</td>\n",
       "      <td>...</td>\n",
       "      <td>-5.656474</td>\n",
       "      <td>-5.338774</td>\n",
       "      <td>-5.956665</td>\n",
       "      <td>-6.357945</td>\n",
       "      <td>-5.982137</td>\n",
       "      <td>-5.842979</td>\n",
       "      <td>-4.504141</td>\n",
       "      <td>-2.002567</td>\n",
       "      <td>0.0</td>\n",
       "      <td>Chorus</td>\n",
       "    </tr>\n",
       "    <tr>\n",
       "      <th>4</th>\n",
       "      <td>-745.423096</td>\n",
       "      <td>-745.423096</td>\n",
       "      <td>-745.423096</td>\n",
       "      <td>-745.423096</td>\n",
       "      <td>-745.423096</td>\n",
       "      <td>-743.130554</td>\n",
       "      <td>-740.174133</td>\n",
       "      <td>-737.529724</td>\n",
       "      <td>-736.178650</td>\n",
       "      <td>-735.844055</td>\n",
       "      <td>...</td>\n",
       "      <td>-6.135539</td>\n",
       "      <td>-7.253041</td>\n",
       "      <td>-7.990482</td>\n",
       "      <td>-7.548039</td>\n",
       "      <td>-7.059709</td>\n",
       "      <td>-6.347627</td>\n",
       "      <td>-4.458066</td>\n",
       "      <td>-1.742748</td>\n",
       "      <td>0.0</td>\n",
       "      <td>Chorus</td>\n",
       "    </tr>\n",
       "    <tr>\n",
       "      <th>...</th>\n",
       "      <td>...</td>\n",
       "      <td>...</td>\n",
       "      <td>...</td>\n",
       "      <td>...</td>\n",
       "      <td>...</td>\n",
       "      <td>...</td>\n",
       "      <td>...</td>\n",
       "      <td>...</td>\n",
       "      <td>...</td>\n",
       "      <td>...</td>\n",
       "      <td>...</td>\n",
       "      <td>...</td>\n",
       "      <td>...</td>\n",
       "      <td>...</td>\n",
       "      <td>...</td>\n",
       "      <td>...</td>\n",
       "      <td>...</td>\n",
       "      <td>...</td>\n",
       "      <td>...</td>\n",
       "      <td>...</td>\n",
       "      <td>...</td>\n",
       "    </tr>\n",
       "    <tr>\n",
       "      <th>9355</th>\n",
       "      <td>-841.276550</td>\n",
       "      <td>-841.276550</td>\n",
       "      <td>-841.276550</td>\n",
       "      <td>-841.276550</td>\n",
       "      <td>-841.276550</td>\n",
       "      <td>-841.276550</td>\n",
       "      <td>-841.276550</td>\n",
       "      <td>-841.276550</td>\n",
       "      <td>-841.276550</td>\n",
       "      <td>-841.276550</td>\n",
       "      <td>...</td>\n",
       "      <td>17.676605</td>\n",
       "      <td>18.026758</td>\n",
       "      <td>18.565594</td>\n",
       "      <td>17.836399</td>\n",
       "      <td>16.837769</td>\n",
       "      <td>15.430470</td>\n",
       "      <td>12.818876</td>\n",
       "      <td>10.243580</td>\n",
       "      <td>5.0</td>\n",
       "      <td>NoFX</td>\n",
       "    </tr>\n",
       "    <tr>\n",
       "      <th>9356</th>\n",
       "      <td>-839.416626</td>\n",
       "      <td>-839.416626</td>\n",
       "      <td>-839.416626</td>\n",
       "      <td>-839.416626</td>\n",
       "      <td>-839.416626</td>\n",
       "      <td>-839.416626</td>\n",
       "      <td>-839.416626</td>\n",
       "      <td>-839.416626</td>\n",
       "      <td>-839.416626</td>\n",
       "      <td>-839.416626</td>\n",
       "      <td>...</td>\n",
       "      <td>26.542507</td>\n",
       "      <td>25.427277</td>\n",
       "      <td>23.974236</td>\n",
       "      <td>21.803810</td>\n",
       "      <td>19.794647</td>\n",
       "      <td>17.421839</td>\n",
       "      <td>14.595476</td>\n",
       "      <td>12.041007</td>\n",
       "      <td>5.0</td>\n",
       "      <td>NoFX</td>\n",
       "    </tr>\n",
       "    <tr>\n",
       "      <th>9357</th>\n",
       "      <td>-841.595947</td>\n",
       "      <td>-841.595947</td>\n",
       "      <td>-841.595947</td>\n",
       "      <td>-841.595947</td>\n",
       "      <td>-841.595947</td>\n",
       "      <td>-841.595947</td>\n",
       "      <td>-841.595947</td>\n",
       "      <td>-841.595947</td>\n",
       "      <td>-841.595947</td>\n",
       "      <td>-841.595947</td>\n",
       "      <td>...</td>\n",
       "      <td>25.770664</td>\n",
       "      <td>24.639793</td>\n",
       "      <td>23.246094</td>\n",
       "      <td>21.348425</td>\n",
       "      <td>19.865543</td>\n",
       "      <td>17.576389</td>\n",
       "      <td>14.275450</td>\n",
       "      <td>10.246469</td>\n",
       "      <td>5.0</td>\n",
       "      <td>NoFX</td>\n",
       "    </tr>\n",
       "    <tr>\n",
       "      <th>9358</th>\n",
       "      <td>-828.064514</td>\n",
       "      <td>-828.064514</td>\n",
       "      <td>-828.064514</td>\n",
       "      <td>-828.064514</td>\n",
       "      <td>-828.064514</td>\n",
       "      <td>-828.064514</td>\n",
       "      <td>-828.064514</td>\n",
       "      <td>-828.064514</td>\n",
       "      <td>-828.064514</td>\n",
       "      <td>-828.064514</td>\n",
       "      <td>...</td>\n",
       "      <td>20.394966</td>\n",
       "      <td>18.981857</td>\n",
       "      <td>18.081066</td>\n",
       "      <td>16.769773</td>\n",
       "      <td>15.511858</td>\n",
       "      <td>13.729324</td>\n",
       "      <td>10.692130</td>\n",
       "      <td>7.975833</td>\n",
       "      <td>5.0</td>\n",
       "      <td>NoFX</td>\n",
       "    </tr>\n",
       "    <tr>\n",
       "      <th>9359</th>\n",
       "      <td>-831.366699</td>\n",
       "      <td>-831.366699</td>\n",
       "      <td>-831.366699</td>\n",
       "      <td>-831.366699</td>\n",
       "      <td>-831.366699</td>\n",
       "      <td>-831.366699</td>\n",
       "      <td>-831.366699</td>\n",
       "      <td>-831.366699</td>\n",
       "      <td>-831.366699</td>\n",
       "      <td>-831.366699</td>\n",
       "      <td>...</td>\n",
       "      <td>14.332900</td>\n",
       "      <td>13.996359</td>\n",
       "      <td>13.460836</td>\n",
       "      <td>11.998716</td>\n",
       "      <td>10.190699</td>\n",
       "      <td>8.062056</td>\n",
       "      <td>5.600398</td>\n",
       "      <td>4.650674</td>\n",
       "      <td>5.0</td>\n",
       "      <td>NoFX</td>\n",
       "    </tr>\n",
       "  </tbody>\n",
       "</table>\n",
       "<p>9360 rows × 1133 columns</p>\n",
       "</div>"
      ],
      "text/plain": [
       "          Feat 0      Feat 1      Feat 2      Feat 3      Feat 4      Feat 5  \\\n",
       "0    -784.702332 -784.702332 -784.702332 -783.191589 -780.561096 -780.741699   \n",
       "1    -761.046631 -761.046631 -761.046631 -760.790771 -758.623718 -758.156921   \n",
       "2    -755.930176 -755.930176 -755.930176 -755.882141 -755.104919 -753.960022   \n",
       "3    -775.834900 -775.834900 -775.834900 -775.834900 -775.834900 -771.108582   \n",
       "4    -745.423096 -745.423096 -745.423096 -745.423096 -745.423096 -743.130554   \n",
       "...          ...         ...         ...         ...         ...         ...   \n",
       "9355 -841.276550 -841.276550 -841.276550 -841.276550 -841.276550 -841.276550   \n",
       "9356 -839.416626 -839.416626 -839.416626 -839.416626 -839.416626 -839.416626   \n",
       "9357 -841.595947 -841.595947 -841.595947 -841.595947 -841.595947 -841.595947   \n",
       "9358 -828.064514 -828.064514 -828.064514 -828.064514 -828.064514 -828.064514   \n",
       "9359 -831.366699 -831.366699 -831.366699 -831.366699 -831.366699 -831.366699   \n",
       "\n",
       "          Feat 6      Feat 7      Feat 8      Feat 9  ...  Feat 1123  \\\n",
       "0    -779.379578 -780.059937 -780.545044 -779.264648  ...  -9.980167   \n",
       "1    -756.930786 -757.317566 -757.418396 -756.323364  ... -11.614445   \n",
       "2    -752.564697 -752.798523 -752.437561 -752.191284  ...  -9.644500   \n",
       "3    -766.405090 -763.087646 -762.393433 -763.058472  ...  -5.656474   \n",
       "4    -740.174133 -737.529724 -736.178650 -735.844055  ...  -6.135539   \n",
       "...          ...         ...         ...         ...  ...        ...   \n",
       "9355 -841.276550 -841.276550 -841.276550 -841.276550  ...  17.676605   \n",
       "9356 -839.416626 -839.416626 -839.416626 -839.416626  ...  26.542507   \n",
       "9357 -841.595947 -841.595947 -841.595947 -841.595947  ...  25.770664   \n",
       "9358 -828.064514 -828.064514 -828.064514 -828.064514  ...  20.394966   \n",
       "9359 -831.366699 -831.366699 -831.366699 -831.366699  ...  14.332900   \n",
       "\n",
       "      Feat 1124  Feat 1125  Feat 1126  Feat 1127  Feat 1128  Feat 1129  \\\n",
       "0     -9.575130 -11.077902 -10.313608  -9.547455  -8.738466  -9.587674   \n",
       "1    -10.615732 -10.760288 -10.884594  -8.935947 -10.373097 -10.659937   \n",
       "2     -5.715909  -3.048868  -2.390507  -0.943978  -2.096195  -3.543271   \n",
       "3     -5.338774  -5.956665  -6.357945  -5.982137  -5.842979  -4.504141   \n",
       "4     -7.253041  -7.990482  -7.548039  -7.059709  -6.347627  -4.458066   \n",
       "...         ...        ...        ...        ...        ...        ...   \n",
       "9355  18.026758  18.565594  17.836399  16.837769  15.430470  12.818876   \n",
       "9356  25.427277  23.974236  21.803810  19.794647  17.421839  14.595476   \n",
       "9357  24.639793  23.246094  21.348425  19.865543  17.576389  14.275450   \n",
       "9358  18.981857  18.081066  16.769773  15.511858  13.729324  10.692130   \n",
       "9359  13.996359  13.460836  11.998716  10.190699   8.062056   5.600398   \n",
       "\n",
       "      Feat 1130  label digit  label text  \n",
       "0     -6.503111          0.0      Chorus  \n",
       "1     -7.882442          0.0      Chorus  \n",
       "2     -2.525408          0.0      Chorus  \n",
       "3     -2.002567          0.0      Chorus  \n",
       "4     -1.742748          0.0      Chorus  \n",
       "...         ...          ...         ...  \n",
       "9355  10.243580          5.0        NoFX  \n",
       "9356  12.041007          5.0        NoFX  \n",
       "9357  10.246469          5.0        NoFX  \n",
       "9358   7.975833          5.0        NoFX  \n",
       "9359   4.650674          5.0        NoFX  \n",
       "\n",
       "[9360 rows x 1133 columns]"
      ]
     },
     "execution_count": 6,
     "metadata": {},
     "output_type": "execute_result"
    }
   ],
   "source": [
    "dataset = pd.DataFrame(features)\n",
    "column_names = []\n",
    "for c in range(feature_len):\n",
    "    column_names.append(\"Feat %i\" % c)\n",
    "dataset.columns =  column_names\n",
    "dataset['label digit'] = labels\n",
    "label_text = []\n",
    "for l in labels:\n",
    "    label_text.append(classes[int(l)])\n",
    "dataset['label text'] = label_text\n",
    "dataset.to_csv('features.csv')\n",
    "dataset"
   ]
  },
  {
   "cell_type": "code",
   "execution_count": 38,
   "id": "1135a32e-3705-4199-b756-fee751a27e8f",
   "metadata": {},
   "outputs": [
    {
     "name": "stdout",
     "output_type": "stream",
     "text": [
      "(9360, 520)\n"
     ]
    }
   ],
   "source": [
    "# Feature switch\n",
    "features = features_reduced\n",
    "#features = features_full\n",
    "print(features.shape)"
   ]
  },
  {
   "cell_type": "code",
   "execution_count": 39,
   "id": "4d632bba-d3c8-4e03-9c04-745eb768d3e4",
   "metadata": {},
   "outputs": [],
   "source": [
    "from sklearn.model_selection import train_test_split\n",
    "\n",
    "#splitting the dataset in training and testing parts\n",
    "feat_train, feat_test, lab_train, lab_test = train_test_split(features, labels, test_size=0.2, random_state=7)"
   ]
  },
  {
   "cell_type": "code",
   "execution_count": 40,
   "id": "02df0734-ebe6-463e-9b93-932f951f3951",
   "metadata": {},
   "outputs": [],
   "source": [
    "#learning the scaling transformation from the train data and applying it to both train and test set.\n",
    "\n",
    "#creating scaling object\n",
    "scaler = sklearn.preprocessing.StandardScaler()\n",
    "\n",
    "#learning scaling from train set\n",
    "scaler.fit(feat_train)\n",
    "\n",
    "#applying scaling to both train and test set\n",
    "feat_train = scaler.transform(feat_train)\n",
    "feat_test = scaler.transform(feat_test)"
   ]
  },
  {
   "cell_type": "markdown",
   "id": "8403d10d-5b84-4837-a841-c1eef093eb72",
   "metadata": {},
   "source": [
    "## Dimensionality reduction"
   ]
  },
  {
   "cell_type": "code",
   "execution_count": 10,
   "id": "3eaf5ece-3869-4e7d-a289-a686b7e185c0",
   "metadata": {},
   "outputs": [
    {
     "name": "stdout",
     "output_type": "stream",
     "text": [
      "(9360, 5)\n"
     ]
    },
    {
     "data": {
      "image/png": "[encoded data removed]",
      "text/plain": [
       "<Figure size 432x432 with 1 Axes>"
      ]
     },
     "metadata": {},
     "output_type": "display_data"
    }
   ],
   "source": [
    "#Creating an instance of the LDA object, which is an object capable of learning and applying LDA from/to data.\n",
    "#if we want to keep only a given number of components we can use the argument \"n_components\"\n",
    "from sklearn.discriminant_analysis import LinearDiscriminantAnalysis\n",
    "lda = LinearDiscriminantAnalysis()\n",
    "\n",
    "\n",
    "#LDA needs BOTH features and labels (as numbers), other techniques needs only features\n",
    "lda.fit(features, labels)\n",
    "\n",
    "#Now we project the data into a from a 7D to a (number of classes - 1) space,\n",
    "#if the number of components in scikit-learn, LDA transform the data to a number of dimensions\n",
    "#equal to min(n_classes - 1), which in our case is 4 classes -1 = 3.\n",
    "#with more classess we will have more dimensions at the output of LDA projection\n",
    "projected_features = lda.transform(features)\n",
    "\n",
    "#the dimensionality should be the same number of classes - 1\n",
    "print(projected_features.shape)\n",
    "\n",
    "#Plot the distribution of the data according to the first two LDA components\n",
    "with plt.style.context('seaborn-whitegrid'):\n",
    "    plt.figure(figsize=(6, 6))\n",
    "    for lab_val, lab_name in zip(range(0,len(classes)),classes):\n",
    "        plt.scatter(projected_features[labels==lab_val, 1],\n",
    "                    projected_features[labels==lab_val, 2],\n",
    "                    label=lab_name)\n",
    "    plt.xlabel('1st LDA Component')\n",
    "    plt.ylabel('2nd LDA Component')\n",
    "    plt.legend(loc='lower center')\n",
    "    plt.tight_layout()\n",
    "    plt.show()"
   ]
  },
  {
   "cell_type": "code",
   "execution_count": 11,
   "id": "ae8b4599-193f-49fb-a905-dccbb989eea3",
   "metadata": {},
   "outputs": [],
   "source": [
    "from sklearn.model_selection import train_test_split\n",
    "\n",
    "#splitting the dataset in training and testing parts\n",
    "proj_feat_train, proj_feat_test, lab_train, lab_test = train_test_split(projected_features, labels, test_size=0.2, random_state=7)"
   ]
  },
  {
   "cell_type": "markdown",
   "id": "4ec2579e-e743-4ac5-a248-2a60b5d914b6",
   "metadata": {},
   "source": [
    "## SVM Classifier "
   ]
  },
  {
   "cell_type": "code",
   "execution_count": 12,
   "id": "34f29ba8-bf8e-44ba-bb1f-876c77bd10e5",
   "metadata": {},
   "outputs": [
    {
     "name": "stdout",
     "output_type": "stream",
     "text": [
      "[LibSVM]Number of mislabeled samples 242 out of 1872\n",
      "Accuracy: 0.8707264957264957\n"
     ]
    }
   ],
   "source": [
    "#Creating an instance of a SVM classifier\n",
    "model_SVM = sklearn.svm.SVC(kernel='rbf', C=2.0, verbose=True)\n",
    "\n",
    "#training the model\n",
    "model_SVM.fit(proj_feat_train, lab_train)\n",
    "\n",
    "#applying the the model on the test data (features)\n",
    "lab_predict = model_SVM.predict(proj_feat_test)\n",
    "\n",
    "#print the number of misclassified samples, accuracy and complete report (using scikit learn metric tools) \n",
    "print('Number of mislabeled samples %d out of %d' % ((lab_test != lab_predict).sum(),lab_test.size))\n",
    "print('Accuracy:',sklearn.metrics.accuracy_score(lab_test, lab_predict))"
   ]
  },
  {
   "cell_type": "code",
   "execution_count": 13,
   "id": "59c277f1-ac3b-45ca-8d63-a026d5ffa153",
   "metadata": {},
   "outputs": [
    {
     "name": "stdout",
     "output_type": "stream",
     "text": [
      "              precision    recall  f1-score   support\n",
      "\n",
      "         0.0       0.76      0.78      0.77       377\n",
      "         1.0       1.00      1.00      1.00       391\n",
      "         2.0       0.78      0.82      0.80       242\n",
      "         3.0       1.00      0.99      0.99       363\n",
      "         4.0       0.77      0.72      0.75       378\n",
      "         5.0       0.91      0.95      0.93       121\n",
      "\n",
      "    accuracy                           0.87      1872\n",
      "   macro avg       0.87      0.88      0.87      1872\n",
      "weighted avg       0.87      0.87      0.87      1872\n",
      "\n"
     ]
    },
    {
     "data": {
      "image/png": "[encoded data removed]",
      "text/plain": [
       "<Figure size 432x288 with 2 Axes>"
      ]
     },
     "metadata": {
      "needs_background": "light"
     },
     "output_type": "display_data"
    }
   ],
   "source": [
    "#computing a comprehensive set of performance metrics\n",
    "print(sklearn.metrics.classification_report(lab_test, lab_predict))\n",
    "\n",
    "disp = sklearn.metrics.plot_confusion_matrix(model_SVM, proj_feat_test, lab_test, display_labels=classes, cmap=plt.cm.Blues, normalize=None)"
   ]
  },
  {
   "cell_type": "markdown",
   "id": "cf330daf-edab-4ae0-9d4c-b48f78ab9389",
   "metadata": {},
   "source": [
    "## ANN Classifier"
   ]
  },
  {
   "cell_type": "markdown",
   "id": "64754e5f-11f8-45f6-b67c-81aa7898afa4",
   "metadata": {},
   "source": [
    "### No dimensionality reduction "
   ]
  },
  {
   "cell_type": "code",
   "execution_count": 41,
   "id": "275fc885-e19e-426f-b074-4249589d56c7",
   "metadata": {
    "scrolled": true
   },
   "outputs": [
    {
     "name": "stdout",
     "output_type": "stream",
     "text": [
      "Iteration 1, loss = 0.91098337\n",
      "Iteration 2, loss = 0.47468200\n",
      "Iteration 3, loss = 0.36448007\n",
      "Iteration 4, loss = 0.32322421\n",
      "Iteration 5, loss = 0.28866691\n",
      "Iteration 6, loss = 0.27124579\n",
      "Iteration 7, loss = 0.24738704\n",
      "Iteration 8, loss = 0.22819835\n",
      "Iteration 9, loss = 0.22485364\n",
      "Iteration 10, loss = 0.20974597\n",
      "Iteration 11, loss = 0.20908665\n",
      "Iteration 12, loss = 0.19696207\n",
      "Iteration 13, loss = 0.19029983\n",
      "Iteration 14, loss = 0.18266926\n",
      "Iteration 15, loss = 0.17628374\n",
      "Iteration 16, loss = 0.16042684\n",
      "Iteration 17, loss = 0.17136462\n",
      "Iteration 18, loss = 0.15312437\n",
      "Iteration 19, loss = 0.16218778\n",
      "Iteration 20, loss = 0.14430918\n",
      "Iteration 21, loss = 0.13800098\n",
      "Iteration 22, loss = 0.13161973\n",
      "Iteration 23, loss = 0.12486922\n",
      "Iteration 24, loss = 0.12121970\n",
      "Iteration 25, loss = 0.12271326\n",
      "Iteration 26, loss = 0.11376125\n",
      "Iteration 27, loss = 0.10367320\n",
      "Iteration 28, loss = 0.11237824\n",
      "Iteration 29, loss = 0.11367106\n",
      "Iteration 30, loss = 0.11303118\n",
      "Iteration 31, loss = 0.10671592\n",
      "Iteration 32, loss = 0.09977446\n",
      "Iteration 33, loss = 0.09112127\n",
      "Iteration 34, loss = 0.08548278\n",
      "Iteration 35, loss = 0.08500405\n",
      "Iteration 36, loss = 0.08264143\n",
      "Iteration 37, loss = 0.07706681\n",
      "Iteration 38, loss = 0.08461395\n",
      "Iteration 39, loss = 0.08850314\n",
      "Iteration 40, loss = 0.08071526\n",
      "Iteration 41, loss = 0.08368796\n",
      "Iteration 42, loss = 0.07105726\n",
      "Iteration 43, loss = 0.07026872\n",
      "Iteration 44, loss = 0.07345192\n",
      "Iteration 45, loss = 0.06114141\n",
      "Iteration 46, loss = 0.06301990\n",
      "Iteration 47, loss = 0.06342515\n",
      "Iteration 48, loss = 0.05720787\n",
      "Iteration 49, loss = 0.06538762\n",
      "Iteration 50, loss = 0.06138956\n",
      "Iteration 51, loss = 0.05817716\n",
      "Iteration 52, loss = 0.05558556\n",
      "Iteration 53, loss = 0.06765477\n",
      "Iteration 54, loss = 0.06428858\n",
      "Iteration 55, loss = 0.06456013\n",
      "Iteration 56, loss = 0.06369415\n",
      "Iteration 57, loss = 0.04798453\n",
      "Iteration 58, loss = 0.03880483\n",
      "Iteration 59, loss = 0.04786539\n",
      "Iteration 60, loss = 0.05568351\n",
      "Iteration 61, loss = 0.05414516\n",
      "Iteration 62, loss = 0.05185879\n",
      "Iteration 63, loss = 0.04949561\n",
      "Iteration 64, loss = 0.04378904\n",
      "Iteration 65, loss = 0.05717929\n",
      "Iteration 66, loss = 0.05922215\n",
      "Iteration 67, loss = 0.04271947\n",
      "Iteration 68, loss = 0.04215374\n",
      "Iteration 69, loss = 0.04316224\n",
      "Training loss did not improve more than tol=0.000100 for 10 consecutive epochs. Stopping.\n",
      "Accuracy: 0.9246794871794872\n"
     ]
    },
    {
     "data": {
      "image/png": "[encoded data removed]",
      "text/plain": [
       "<Figure size 432x288 with 1 Axes>"
      ]
     },
     "metadata": {
      "needs_background": "light"
     },
     "output_type": "display_data"
    },
    {
     "name": "stdout",
     "output_type": "stream",
     "text": [
      "Number of mislabeled samples 141 out of 1872\n",
      "Accuracy: 0.9246794871794872\n",
      "              precision    recall  f1-score   support\n",
      "\n",
      "         0.0       0.80      0.90      0.85       377\n",
      "         1.0       1.00      1.00      1.00       391\n",
      "         2.0       0.95      0.95      0.95       242\n",
      "         3.0       1.00      0.99      1.00       363\n",
      "         4.0       0.89      0.76      0.82       378\n",
      "         5.0       0.94      0.99      0.96       121\n",
      "\n",
      "    accuracy                           0.92      1872\n",
      "   macro avg       0.93      0.93      0.93      1872\n",
      "weighted avg       0.93      0.92      0.92      1872\n",
      "\n"
     ]
    },
    {
     "data": {
      "image/png": "[encoded data removed]",
      "text/plain": [
       "<Figure size 432x288 with 2 Axes>"
      ]
     },
     "metadata": {
      "needs_background": "light"
     },
     "output_type": "display_data"
    }
   ],
   "source": [
    "#Import the classifier\n",
    "from sklearn.neural_network import MLPClassifier\n",
    "\n",
    "##Creating an instance of a MLP classifier\n",
    "#and setting it some option (max mum epoch, verbose on, activation of neurons)\n",
    "mlp = MLPClassifier(hidden_layer_sizes=(100,50,100), max_iter=10000, activation='relu', verbose=True)\n",
    "\n",
    "#train the model\n",
    "mlp.fit(feat_train, lab_train)\n",
    "\n",
    "#applying the the model on the test data (features)\n",
    "lab_predict = mlp.predict(feat_test)\n",
    "print('Accuracy:',sklearn.metrics.accuracy_score(lab_test, lab_predict))\n",
    "\n",
    "#plotting the loss curve over training iteration \n",
    "plt.plot(mlp.loss_curve_)\n",
    "plt.xlabel('iteration')\n",
    "plt.ylabel('loss')\n",
    "plt.show()\n",
    "\n",
    "#print the number of misclassified samples, accuracy and complete report (using scikit learn metric tools) \n",
    "print('Number of mislabeled samples %d out of %d' % ((lab_test != lab_predict).sum(),lab_test.size))\n",
    "print('Accuracy:',sklearn.metrics.accuracy_score(lab_test, lab_predict))\n",
    "print(sklearn.metrics.classification_report(lab_test, lab_predict))\n",
    "disp = sklearn.metrics.plot_confusion_matrix(mlp, feat_test, lab_test, display_labels=classes, cmap=plt.cm.Blues, normalize=\"true\")"
   ]
  },
  {
   "cell_type": "markdown",
   "id": "c6af0f63-1045-4b8e-87c4-3db3d7983463",
   "metadata": {},
   "source": [
    "### With dimensionality reduction"
   ]
  },
  {
   "cell_type": "code",
   "execution_count": 14,
   "id": "1a5be92d-c5e4-499c-8d6b-11b94ee27744",
   "metadata": {},
   "outputs": [
    {
     "name": "stdout",
     "output_type": "stream",
     "text": [
      "Accuracy: 0.8563034188034188\n"
     ]
    },
    {
     "data": {
      "image/png": "[encoded data removed]",
      "text/plain": [
       "<Figure size 432x288 with 1 Axes>"
      ]
     },
     "metadata": {
      "needs_background": "light"
     },
     "output_type": "display_data"
    },
    {
     "name": "stdout",
     "output_type": "stream",
     "text": [
      "Number of mislabeled samples 269 out of 1872\n",
      "Accuracy: 0.8563034188034188\n",
      "              precision    recall  f1-score   support\n",
      "\n",
      "         0.0       0.70      0.82      0.76       377\n",
      "         1.0       1.00      1.00      1.00       391\n",
      "         2.0       0.79      0.77      0.78       242\n",
      "         3.0       0.99      0.99      0.99       363\n",
      "         4.0       0.76      0.64      0.70       378\n",
      "         5.0       0.91      0.93      0.92       121\n",
      "\n",
      "    accuracy                           0.86      1872\n",
      "   macro avg       0.86      0.86      0.86      1872\n",
      "weighted avg       0.86      0.86      0.86      1872\n",
      "\n"
     ]
    },
    {
     "data": {
      "image/png": "[encoded data removed]",
      "text/plain": [
       "<Figure size 432x288 with 2 Axes>"
      ]
     },
     "metadata": {
      "needs_background": "light"
     },
     "output_type": "display_data"
    }
   ],
   "source": [
    "#Import the classifier\n",
    "from sklearn.neural_network import MLPClassifier\n",
    "\n",
    "##Creating an instance of a MLP classifier\n",
    "#and setting it some option (max mum epoch, verbose on, activation of neurons)\n",
    "mlp = MLPClassifier(hidden_layer_sizes=(100,50,100), max_iter=10000, activation='relu', verbose=False)\n",
    "\n",
    "#train the model\n",
    "mlp.fit(proj_feat_train, lab_train)\n",
    "\n",
    "#applying the the model on the test data (features)\n",
    "lab_predict = mlp.predict(proj_feat_test)\n",
    "print('Accuracy:',sklearn.metrics.accuracy_score(lab_test, lab_predict))\n",
    "\n",
    "#plotting the loss curve over training iteration \n",
    "plt.plot(mlp.loss_curve_)\n",
    "plt.xlabel('iteration')\n",
    "plt.ylabel('loss')\n",
    "plt.show()\n",
    "\n",
    "#print the number of misclassified samples, accuracy and complete report (using scikit learn metric tools) \n",
    "print('Number of mislabeled samples %d out of %d' % ((lab_test != lab_predict).sum(),lab_test.size))\n",
    "print('Accuracy:',sklearn.metrics.accuracy_score(lab_test, lab_predict))\n",
    "print(sklearn.metrics.classification_report(lab_test, lab_predict))\n",
    "disp = sklearn.metrics.plot_confusion_matrix(mlp, proj_feat_test, lab_test, display_labels=classes, cmap=plt.cm.Blues, normalize=None)"
   ]
  },
  {
   "cell_type": "code",
   "execution_count": 17,
   "id": "90433ad1-7734-4d38-88ee-0b399b22adbc",
   "metadata": {},
   "outputs": [
    {
     "ename": "AttributeError",
     "evalue": "'numpy.ndarray' object has no attribute 'items'",
     "output_type": "error",
     "traceback": [
      "\u001b[1;31m---------------------------------------------------------------------------\u001b[0m",
      "\u001b[1;31mAttributeError\u001b[0m                            Traceback (most recent call last)",
      "\u001b[1;32m<ipython-input-17-29bd71c34b67>\u001b[0m in \u001b[0;36m<module>\u001b[1;34m\u001b[0m\n\u001b[0;32m      2\u001b[0m \u001b[0mresults\u001b[0m \u001b[1;33m=\u001b[0m \u001b[0mlab_test\u001b[0m \u001b[1;33m==\u001b[0m \u001b[0mlab_predict\u001b[0m\u001b[1;33m\u001b[0m\u001b[1;33m\u001b[0m\u001b[0m\n\u001b[0;32m      3\u001b[0m \u001b[1;33m\u001b[0m\u001b[0m\n\u001b[1;32m----> 4\u001b[1;33m \u001b[1;32mfor\u001b[0m \u001b[0mindex\u001b[0m\u001b[1;33m,\u001b[0m \u001b[0mvalue\u001b[0m \u001b[1;32min\u001b[0m \u001b[0mresults\u001b[0m\u001b[1;33m.\u001b[0m\u001b[0mitems\u001b[0m\u001b[1;33m(\u001b[0m\u001b[1;33m)\u001b[0m\u001b[1;33m:\u001b[0m\u001b[1;33m\u001b[0m\u001b[1;33m\u001b[0m\u001b[0m\n\u001b[0m\u001b[0;32m      5\u001b[0m     \u001b[1;32mif\u001b[0m \u001b[0mvalue\u001b[0m \u001b[1;33m==\u001b[0m \u001b[1;32mFalse\u001b[0m\u001b[1;33m:\u001b[0m\u001b[1;33m\u001b[0m\u001b[1;33m\u001b[0m\u001b[0m\n\u001b[0;32m      6\u001b[0m         \u001b[0mprint\u001b[0m\u001b[1;33m(\u001b[0m\u001b[0mclasses\u001b[0m\u001b[1;33m[\u001b[0m\u001b[0mint\u001b[0m\u001b[1;33m(\u001b[0m\u001b[0mlab_test\u001b[0m\u001b[1;33m[\u001b[0m\u001b[0mindex\u001b[0m\u001b[1;33m]\u001b[0m\u001b[1;33m)\u001b[0m\u001b[1;33m]\u001b[0m\u001b[1;33m)\u001b[0m\u001b[1;33m\u001b[0m\u001b[1;33m\u001b[0m\u001b[0m\n",
      "\u001b[1;31mAttributeError\u001b[0m: 'numpy.ndarray' object has no attribute 'items'"
     ]
    }
   ],
   "source": [
    "#displaying names of misclassified files\n",
    "results = lab_test == lab_predict\n",
    "\n",
    "for index, value in results.items():\n",
    "    if value == False:\n",
    "        print(classes[int(lab_test[index])])"
   ]
  },
  {
   "cell_type": "markdown",
   "id": "4a86ba8a-0740-4685-a7e4-4b646342719c",
   "metadata": {},
   "source": [
    "# K-Fold Cross Validation"
   ]
  },
  {
   "cell_type": "code",
   "execution_count": 91,
   "id": "fcad2cf7-e268-46d2-aa26-81681e713953",
   "metadata": {},
   "outputs": [],
   "source": [
    "# Creating pipeline\n",
    "from sklearn.pipeline import Pipeline\n",
    "from sklearn.preprocessing import StandardScaler\n",
    "from sklearn.neural_network import MLPClassifier\n",
    "pipe = Pipeline([('scaler', StandardScaler()),\n",
    "                 ('pca', PCA(n_components=1200)),\n",
    "                                  ('classifier', MLPClassifier(hidden_layer_sizes=(100,50,100), max_iter=10000, activation='relu', verbose=False))\n",
    "                                 ])"
   ]
  },
  {
   "cell_type": "code",
   "execution_count": 92,
   "id": "be58d3e9-8ff8-4719-ac24-530e1d6eb5f4",
   "metadata": {},
   "outputs": [
    {
     "name": "stdout",
     "output_type": "stream",
     "text": [
      "{'fit_time': array([14.15738344, 14.35128856, 11.12805057, 14.81203175, 13.95379949]), 'score_time': array([0.12596726, 0.09196949, 0.10300446, 0.10396767, 0.09199834]), 'test_f1_macro': array([0.88546092, 0.91314764, 0.92597371, 0.87839753, 0.89711605]), 'train_f1_macro': array([1.      , 1.      , 0.999722, 1.      , 1.      ]), 'test_accuracy': array([0.88568376, 0.91720085, 0.92521368, 0.88942308, 0.90544872]), 'train_accuracy': array([1.        , 1.        , 0.99973291, 1.        , 1.        ])} \n",
      "\n",
      "Accuracy mean and variance 0.904594017094017 0.00023451767842793563 \n",
      "\n",
      "F1 macro mean and variance 0.9000191696748564 0.0003067721797274327 \n",
      "\n"
     ]
    }
   ],
   "source": [
    "skf = sklearn.model_selection.StratifiedKFold()\n",
    "scores = sklearn.model_selection.cross_validate(pipe, features, labels, cv=skf, scoring=('f1_macro', 'accuracy'), return_train_score=True)\n",
    "\n",
    "print(scores,'\\n')\n",
    "print('Accuracy mean and variance', np.mean(scores['test_accuracy']),np.var(scores['test_accuracy']),'\\n')\n",
    "print('F1 macro mean and variance', np.mean(scores['test_f1_macro']),np.var(scores['test_f1_macro']),'\\n')"
   ]
  },
  {
   "cell_type": "markdown",
   "id": "f4848601-99be-4c5e-8d02-44412a63c947",
   "metadata": {},
   "source": [
    "## Repeated K-Fold Cross Validation"
   ]
  },
  {
   "cell_type": "code",
   "execution_count": 85,
   "id": "429af360-d076-49a5-bd8d-cff4027fb56d",
   "metadata": {},
   "outputs": [],
   "source": [
    "# Creating pipeline\n",
    "from sklearn.pipeline import Pipeline\n",
    "from sklearn.preprocessing import StandardScaler\n",
    "from sklearn.neural_network import MLPClassifier\n",
    "pipe = Pipeline([('scaler', StandardScaler()),\n",
    "                                  ('classifier', MLPClassifier(hidden_layer_sizes=(100,50,100), max_iter=10000, activation='relu', verbose=False))\n",
    "                                 ])"
   ]
  },
  {
   "cell_type": "code",
   "execution_count": 86,
   "id": "dfd9d86a-4ed7-4d01-a06b-03f9ee0e5b9b",
   "metadata": {},
   "outputs": [
    {
     "name": "stdout",
     "output_type": "stream",
     "text": [
      "{'fit_time': array([10.2239933 , 14.08999968, 18.41248107, 13.02206707, 14.89700079,\n",
      "       18.61003208, 16.40209007, 14.15699863, 20.04899693, 14.2590003 ,\n",
      "       11.93099833, 17.296     , 12.86810017,  9.89000034, 15.53950214,\n",
      "       10.20367599, 11.83549905, 11.54903078, 12.59503102, 12.8132503 ,\n",
      "       12.79365325, 14.77900028, 11.21000004,  8.12499857, 13.50999856,\n",
      "       15.50911188, 17.26399827, 19.16099811, 15.4886241 , 13.0180614 ,\n",
      "       13.28530955,  9.36357808, 12.60299873, 13.77499938, 13.28499818,\n",
      "       11.77075219, 22.1409986 , 18.41699839, 10.34899998, 17.5355103 ,\n",
      "       16.04726267, 10.69400001, 13.05899978, 17.73396873, 12.88899112,\n",
      "       12.36600065, 14.10109091, 10.56403065, 10.62603259, 13.43567681]), 'score_time': array([0.02899981, 0.03199959, 0.02699757, 0.02803111, 0.02603173,\n",
      "       0.02699995, 0.0359993 , 0.03400135, 0.03400111, 0.02600002,\n",
      "       0.02600169, 0.0279994 , 0.02800179, 0.0269959 , 0.02699852,\n",
      "       0.03000021, 0.02699518, 0.02900052, 0.02600121, 0.02800107,\n",
      "       0.03000116, 0.02599955, 0.02600098, 0.02800107, 0.02700138,\n",
      "       0.02600098, 0.02700138, 0.02800107, 0.02699685, 0.02699709,\n",
      "       0.02700114, 0.02700138, 0.02800131, 0.02800083, 0.02900171,\n",
      "       0.02700162, 0.03100085, 0.02700186, 0.02900124, 0.02699924,\n",
      "       0.02800155, 0.02600121, 0.0270021 , 0.03500032, 0.02600169,\n",
      "       0.02800083, 0.03599954, 0.02700043, 0.0279963 , 0.03300142]), 'test_f1_macro': array([0.95733595, 0.95419279, 0.95563987, 0.96354314, 0.9479823 ,\n",
      "       0.96360513, 0.961994  , 0.93179779, 0.93448818, 0.96773987,\n",
      "       0.94910918, 0.9636482 , 0.96571758, 0.95832421, 0.95779092,\n",
      "       0.95132313, 0.95767378, 0.94022929, 0.95147179, 0.96704687,\n",
      "       0.94303011, 0.96376037, 0.96184595, 0.96553055, 0.96091429,\n",
      "       0.96549309, 0.96509658, 0.95597678, 0.96362943, 0.96350118,\n",
      "       0.97001825, 0.95786236, 0.94881986, 0.96305173, 0.94984314,\n",
      "       0.967868  , 0.96085507, 0.96642696, 0.95588046, 0.95778906,\n",
      "       0.95666326, 0.960782  , 0.96247913, 0.96269954, 0.96179672,\n",
      "       0.95869018, 0.95223076, 0.96668885, 0.95091295, 0.95345013]), 'train_f1_macro': array([0.9918103 , 0.99228594, 0.9953588 , 0.99766344, 0.98837417,\n",
      "       0.99930336, 0.99707736, 0.98469231, 0.97940887, 0.99582837,\n",
      "       0.99507273, 0.99504516, 0.99515667, 0.99810856, 0.99307628,\n",
      "       0.99411081, 0.99152006, 0.98238454, 0.99710877, 0.99944352,\n",
      "       0.98789557, 0.99757756, 0.99643968, 0.99616087, 0.99766275,\n",
      "       0.99988867, 0.99899832, 0.99877613, 0.99860907, 0.99744054,\n",
      "       0.99977733, 0.995659  , 0.99638554, 0.99966622, 0.99115608,\n",
      "       0.99977733, 0.99721673, 0.99897108, 0.99621892, 0.99730078,\n",
      "       0.99888665, 0.99877574, 0.99866487, 0.99922118, 0.99933222,\n",
      "       0.99314811, 0.99614814, 0.99607862, 0.99092795, 0.98388207]), 'test_accuracy': array([0.95192308, 0.95245726, 0.95032051, 0.95886752, 0.94123932,\n",
      "       0.96207265, 0.9599359 , 0.92788462, 0.93376068, 0.96260684,\n",
      "       0.94284188, 0.96100427, 0.96153846, 0.95405983, 0.95352564,\n",
      "       0.94711538, 0.95299145, 0.93910256, 0.94604701, 0.96260684,\n",
      "       0.94391026, 0.96047009, 0.95833333, 0.96207265, 0.95459402,\n",
      "       0.96153846, 0.96207265, 0.95566239, 0.96100427, 0.95833333,\n",
      "       0.96634615, 0.95512821, 0.94551282, 0.96153846, 0.94337607,\n",
      "       0.96581197, 0.95673077, 0.96153846, 0.94978632, 0.95512821,\n",
      "       0.95192308, 0.95726496, 0.95940171, 0.95779915, 0.95833333,\n",
      "       0.95619658, 0.94925214, 0.96260684, 0.94604701, 0.94818376]), 'train_accuracy': array([0.99065171, 0.99305556, 0.99452457, 0.99719551, 0.98611111,\n",
      "       0.99933226, 0.99652778, 0.98477564, 0.97916667, 0.99505876,\n",
      "       0.99412393, 0.99425748, 0.99479167, 0.9977297 , 0.99212073,\n",
      "       0.9934562 , 0.99038462, 0.98237179, 0.99666132, 0.99933226,\n",
      "       0.99278846, 0.99759615, 0.9957265 , 0.99559295, 0.99719551,\n",
      "       0.99986645, 0.99879808, 0.99853098, 0.99839744, 0.99706197,\n",
      "       0.99973291, 0.99479167, 0.99612714, 0.99959936, 0.98985043,\n",
      "       0.99973291, 0.99679487, 0.99879808, 0.99559295, 0.99679487,\n",
      "       0.99866453, 0.99853098, 0.99839744, 0.99906517, 0.99919872,\n",
      "       0.99425748, 0.99679487, 0.99532585, 0.98918269, 0.98250534])} \n",
      "\n",
      "Accuracy mean and variance 0.9541559829059829 6.849352125794457e-05 \n",
      "\n",
      "F1 macro mean and variance 0.9578848143949447 6.892187753523744e-05 \n",
      "\n"
     ]
    }
   ],
   "source": [
    "rskf = sklearn.model_selection.RepeatedStratifiedKFold(n_splits=5, n_repeats=10)\n",
    "scores = sklearn.model_selection.cross_validate(pipe, features, labels, cv=rskf, scoring=('f1_macro', 'accuracy'), return_train_score=True)\n",
    "\n",
    "print(scores,'\\n')\n",
    "print('Accuracy mean and variance', np.mean(scores['test_accuracy']),np.var(scores['test_accuracy']),'\\n')\n",
    "print('F1 macro mean and variance', np.mean(scores['test_f1_macro']),np.var(scores['test_f1_macro']),'\\n')"
   ]
  },
  {
   "cell_type": "markdown",
   "id": "ce5ec8a9-66a0-49d2-b744-2c910af5c41f",
   "metadata": {},
   "source": [
    "## Grid search"
   ]
  },
  {
   "cell_type": "markdown",
   "id": "eedef218-9283-48af-bb87-b23ff7f3bb1f",
   "metadata": {},
   "source": [
    "### SVM parameter search"
   ]
  },
  {
   "cell_type": "code",
   "execution_count": null,
   "id": "835ead84-6b31-42b1-a9f7-ef94e3032775",
   "metadata": {},
   "outputs": [],
   "source": [
    "from sklearn.pipeline import Pipeline\n",
    "from sklearn.preprocessing import StandardScaler\n",
    "from sklearn.svm import SVC\n",
    "from sklearn.discriminant_analysis import LinearDiscriminantAnalysis\n",
    "\n",
    "pipe = Pipeline([('scaler', StandardScaler()),\n",
    "                 ('lda', LinearDiscriminantAnalysis()),\n",
    "                 ('classifier', SVC())])\n",
    "\n",
    "rskf = sklearn.model_selection.RepeatedStratifiedKFold(n_splits=5, n_repeats=10)\n",
    "grid_params = {\n",
    "    'classifier__C':[10,20,30]\n",
    "}\n",
    "\n",
    "grid_search = sklearn.model_selection.GridSearchCV(estimator=pipe, param_grid=grid_params, scoring='accuracy', cv=rskf, n_jobs=-1)\n",
    "grid_search.fit(features,labels)\n",
    "\n",
    "print('best set of parameters', grid_search.best_params_)\n",
    "print('associated best score',grid_search.best_score_)      "
   ]
  },
  {
   "cell_type": "markdown",
   "id": "2477b09e-a31a-498c-9aad-aeeba8253071",
   "metadata": {},
   "source": [
    "### MLP parameter search"
   ]
  },
  {
   "cell_type": "code",
   "execution_count": null,
   "id": "8f01e476-0d46-4854-a1b6-a5a41d1c349a",
   "metadata": {},
   "outputs": [],
   "source": [
    "# Creating pipeline\n",
    "from sklearn.pipeline import Pipeline\n",
    "from sklearn.preprocessing import StandardScaler\n",
    "from sklearn.neural_network import MLPClassifier\n",
    "from sklearn.discriminant_analysis import LinearDiscriminantAnalysis\n",
    "pipe = Pipeline([('scaler', StandardScaler()),\n",
    "                 #('lda', LinearDiscriminantAnalysis()),\n",
    "                 ('classifier', MLPClassifier(hidden_layer_sizes=(10,5,10), max_iter=10000, activation='relu'))\n",
    "                ])\n",
    "\n",
    "rskf = sklearn.model_selection.RepeatedStratifiedKFold(n_splits=5, n_repeats=10)\n",
    "grid_params = {\n",
    "    'classifier__hidden_layer_sizes':[(10,5,10),(100,50,100),(1000,500,1000)]\n",
    "}\n",
    "                                                       \n",
    "grid_search = sklearn.model_selection.GridSearchCV(estimator=pipe, param_grid=grid_params, scoring='accuracy',cv=rskf,n_jobs=-1)\n",
    "grid_search.fit(features, labels)\n",
    "                                                       \n",
    "print('best set of parameters', grid_search.best_params_)\n",
    "print('associated best score',grid_search.best_score_)                                                       \n",
    "                                                       "
   ]
  },
  {
   "cell_type": "code",
   "execution_count": null,
   "id": "2c292ecc-fb28-4b1f-875c-eb4fe464ce21",
   "metadata": {},
   "outputs": [],
   "source": []
  },
  {
   "cell_type": "code",
   "execution_count": null,
   "id": "31baa345-be1f-4399-86a7-70abf106cf97",
   "metadata": {},
   "outputs": [],
   "source": []
  }
 ],
 "metadata": {
  "kernelspec": {
   "display_name": "Python 3",
   "language": "python",
   "name": "python3"
  },
  "language_info": {
   "codemirror_mode": {
    "name": "ipython",
    "version": 3
   },
   "file_extension": ".py",
   "mimetype": "text/x-python",
   "name": "python",
   "nbconvert_exporter": "python",
   "pygments_lexer": "ipython3",
   "version": "3.6.7"
  }
 },
 "nbformat": 4,
 "nbformat_minor": 5
}
